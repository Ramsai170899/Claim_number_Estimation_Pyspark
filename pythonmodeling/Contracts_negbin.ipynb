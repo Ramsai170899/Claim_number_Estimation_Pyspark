{
  "cells": [
    {
      "cell_type": "markdown",
      "metadata": {
        "id": "euvImp1ksmM6"
      },
      "source": [
        "#### Project-1\n",
        "\n",
        "## Estimation of **number of claims** using **negative binomial distribution**."
      ]
    },
    {
      "cell_type": "markdown",
      "metadata": {
        "id": "PLiqqlpW-SUO"
      },
      "source": [
        "### Importing the required libraries."
      ]
    },
    {
      "cell_type": "code",
      "execution_count": null,
      "metadata": {
        "colab": {
          "base_uri": "https://localhost:8080/"
        },
        "id": "8cUYEzdRshNi",
        "outputId": "4c1cd4d5-a82e-4cff-b921-eeee0da32214"
      },
      "outputs": [
        {
          "output_type": "stream",
          "name": "stderr",
          "text": [
            "/usr/local/lib/python3.7/dist-packages/statsmodels/tools/_testing.py:19: FutureWarning: pandas.util.testing is deprecated. Use the functions in the public API at pandas.testing instead.\n",
            "  import pandas.util.testing as tm\n"
          ]
        }
      ],
      "source": [
        "import pandas as pd\n",
        "import numpy as np\n",
        "import matplotlib.pyplot as plt\n",
        "import statsmodels.api as sm\n",
        "import seaborn as sns\n",
        "from functools import reduce\n",
        "from scipy import stats\n",
        "from patsy import dmatrices"
      ]
    },
    {
      "cell_type": "markdown",
      "metadata": {
        "id": "YK0kFW9CZq9T"
      },
      "source": [
        "### Mounting the google drive to colab."
      ]
    },
    {
      "cell_type": "code",
      "execution_count": null,
      "metadata": {
        "id": "c8YEkZk9Zv3r",
        "colab": {
          "base_uri": "https://localhost:8080/"
        },
        "outputId": "8e8d874f-cbd4-4e51-d6ff-3f73cd54b3d1"
      },
      "outputs": [
        {
          "output_type": "stream",
          "name": "stdout",
          "text": [
            "Mounted at /content/drive\n"
          ]
        }
      ],
      "source": [
        "from google.colab import drive\n",
        "drive.mount('/content/drive')"
      ]
    },
    {
      "cell_type": "code",
      "execution_count": null,
      "metadata": {
        "id": "IjshPk27aLL5"
      },
      "outputs": [],
      "source": [
        "path = 'drive/My Drive/datasets'"
      ]
    },
    {
      "cell_type": "markdown",
      "metadata": {
        "id": "Ok4EOcXU-sSP"
      },
      "source": [
        "### Importing the datasets for the project."
      ]
    },
    {
      "cell_type": "code",
      "execution_count": null,
      "metadata": {
        "id": "Jo7doHB79SnF",
        "colab": {
          "base_uri": "https://localhost:8080/",
          "height": 206
        },
        "outputId": "62f7410e-442e-4814-e05b-304a5f6f4238"
      },
      "outputs": [
        {
          "output_type": "execute_result",
          "data": {
            "text/plain": [
              "   Unnamed: 0  PolicyID  ClaimNb  Exposure Power  CarAge  DriverAge  \\\n",
              "0           1         1        0      0.09     g       0         46   \n",
              "1           2         2        0      0.84     g       0         46   \n",
              "2           3         3        0      0.52     f       2         38   \n",
              "3           4         4        0      0.45     f       2         38   \n",
              "4           5         5        0      0.15     g       0         41   \n",
              "\n",
              "                                Brand      Gas              Region  Density  \n",
              "0  Japanese (except Nissan) or Korean   Diesel           Aquitaine       76  \n",
              "1  Japanese (except Nissan) or Korean   Diesel           Aquitaine       76  \n",
              "2  Japanese (except Nissan) or Korean  Regular  Nord-Pas-de-Calais     3003  \n",
              "3  Japanese (except Nissan) or Korean  Regular  Nord-Pas-de-Calais     3003  \n",
              "4  Japanese (except Nissan) or Korean   Diesel    Pays-de-la-Loire       60  "
            ],
            "text/html": [
              "\n",
              "  <div id=\"df-fedb84aa-1f35-4b7d-8bdf-c26ca6bded93\">\n",
              "    <div class=\"colab-df-container\">\n",
              "      <div>\n",
              "<style scoped>\n",
              "    .dataframe tbody tr th:only-of-type {\n",
              "        vertical-align: middle;\n",
              "    }\n",
              "\n",
              "    .dataframe tbody tr th {\n",
              "        vertical-align: top;\n",
              "    }\n",
              "\n",
              "    .dataframe thead th {\n",
              "        text-align: right;\n",
              "    }\n",
              "</style>\n",
              "<table border=\"1\" class=\"dataframe\">\n",
              "  <thead>\n",
              "    <tr style=\"text-align: right;\">\n",
              "      <th></th>\n",
              "      <th>Unnamed: 0</th>\n",
              "      <th>PolicyID</th>\n",
              "      <th>ClaimNb</th>\n",
              "      <th>Exposure</th>\n",
              "      <th>Power</th>\n",
              "      <th>CarAge</th>\n",
              "      <th>DriverAge</th>\n",
              "      <th>Brand</th>\n",
              "      <th>Gas</th>\n",
              "      <th>Region</th>\n",
              "      <th>Density</th>\n",
              "    </tr>\n",
              "  </thead>\n",
              "  <tbody>\n",
              "    <tr>\n",
              "      <th>0</th>\n",
              "      <td>1</td>\n",
              "      <td>1</td>\n",
              "      <td>0</td>\n",
              "      <td>0.09</td>\n",
              "      <td>g</td>\n",
              "      <td>0</td>\n",
              "      <td>46</td>\n",
              "      <td>Japanese (except Nissan) or Korean</td>\n",
              "      <td>Diesel</td>\n",
              "      <td>Aquitaine</td>\n",
              "      <td>76</td>\n",
              "    </tr>\n",
              "    <tr>\n",
              "      <th>1</th>\n",
              "      <td>2</td>\n",
              "      <td>2</td>\n",
              "      <td>0</td>\n",
              "      <td>0.84</td>\n",
              "      <td>g</td>\n",
              "      <td>0</td>\n",
              "      <td>46</td>\n",
              "      <td>Japanese (except Nissan) or Korean</td>\n",
              "      <td>Diesel</td>\n",
              "      <td>Aquitaine</td>\n",
              "      <td>76</td>\n",
              "    </tr>\n",
              "    <tr>\n",
              "      <th>2</th>\n",
              "      <td>3</td>\n",
              "      <td>3</td>\n",
              "      <td>0</td>\n",
              "      <td>0.52</td>\n",
              "      <td>f</td>\n",
              "      <td>2</td>\n",
              "      <td>38</td>\n",
              "      <td>Japanese (except Nissan) or Korean</td>\n",
              "      <td>Regular</td>\n",
              "      <td>Nord-Pas-de-Calais</td>\n",
              "      <td>3003</td>\n",
              "    </tr>\n",
              "    <tr>\n",
              "      <th>3</th>\n",
              "      <td>4</td>\n",
              "      <td>4</td>\n",
              "      <td>0</td>\n",
              "      <td>0.45</td>\n",
              "      <td>f</td>\n",
              "      <td>2</td>\n",
              "      <td>38</td>\n",
              "      <td>Japanese (except Nissan) or Korean</td>\n",
              "      <td>Regular</td>\n",
              "      <td>Nord-Pas-de-Calais</td>\n",
              "      <td>3003</td>\n",
              "    </tr>\n",
              "    <tr>\n",
              "      <th>4</th>\n",
              "      <td>5</td>\n",
              "      <td>5</td>\n",
              "      <td>0</td>\n",
              "      <td>0.15</td>\n",
              "      <td>g</td>\n",
              "      <td>0</td>\n",
              "      <td>41</td>\n",
              "      <td>Japanese (except Nissan) or Korean</td>\n",
              "      <td>Diesel</td>\n",
              "      <td>Pays-de-la-Loire</td>\n",
              "      <td>60</td>\n",
              "    </tr>\n",
              "  </tbody>\n",
              "</table>\n",
              "</div>\n",
              "      <button class=\"colab-df-convert\" onclick=\"convertToInteractive('df-fedb84aa-1f35-4b7d-8bdf-c26ca6bded93')\"\n",
              "              title=\"Convert this dataframe to an interactive table.\"\n",
              "              style=\"display:none;\">\n",
              "        \n",
              "  <svg xmlns=\"http://www.w3.org/2000/svg\" height=\"24px\"viewBox=\"0 0 24 24\"\n",
              "       width=\"24px\">\n",
              "    <path d=\"M0 0h24v24H0V0z\" fill=\"none\"/>\n",
              "    <path d=\"M18.56 5.44l.94 2.06.94-2.06 2.06-.94-2.06-.94-.94-2.06-.94 2.06-2.06.94zm-11 1L8.5 8.5l.94-2.06 2.06-.94-2.06-.94L8.5 2.5l-.94 2.06-2.06.94zm10 10l.94 2.06.94-2.06 2.06-.94-2.06-.94-.94-2.06-.94 2.06-2.06.94z\"/><path d=\"M17.41 7.96l-1.37-1.37c-.4-.4-.92-.59-1.43-.59-.52 0-1.04.2-1.43.59L10.3 9.45l-7.72 7.72c-.78.78-.78 2.05 0 2.83L4 21.41c.39.39.9.59 1.41.59.51 0 1.02-.2 1.41-.59l7.78-7.78 2.81-2.81c.8-.78.8-2.07 0-2.86zM5.41 20L4 18.59l7.72-7.72 1.47 1.35L5.41 20z\"/>\n",
              "  </svg>\n",
              "      </button>\n",
              "      \n",
              "  <style>\n",
              "    .colab-df-container {\n",
              "      display:flex;\n",
              "      flex-wrap:wrap;\n",
              "      gap: 12px;\n",
              "    }\n",
              "\n",
              "    .colab-df-convert {\n",
              "      background-color: #E8F0FE;\n",
              "      border: none;\n",
              "      border-radius: 50%;\n",
              "      cursor: pointer;\n",
              "      display: none;\n",
              "      fill: #1967D2;\n",
              "      height: 32px;\n",
              "      padding: 0 0 0 0;\n",
              "      width: 32px;\n",
              "    }\n",
              "\n",
              "    .colab-df-convert:hover {\n",
              "      background-color: #E2EBFA;\n",
              "      box-shadow: 0px 1px 2px rgba(60, 64, 67, 0.3), 0px 1px 3px 1px rgba(60, 64, 67, 0.15);\n",
              "      fill: #174EA6;\n",
              "    }\n",
              "\n",
              "    [theme=dark] .colab-df-convert {\n",
              "      background-color: #3B4455;\n",
              "      fill: #D2E3FC;\n",
              "    }\n",
              "\n",
              "    [theme=dark] .colab-df-convert:hover {\n",
              "      background-color: #434B5C;\n",
              "      box-shadow: 0px 1px 3px 1px rgba(0, 0, 0, 0.15);\n",
              "      filter: drop-shadow(0px 1px 2px rgba(0, 0, 0, 0.3));\n",
              "      fill: #FFFFFF;\n",
              "    }\n",
              "  </style>\n",
              "\n",
              "      <script>\n",
              "        const buttonEl =\n",
              "          document.querySelector('#df-fedb84aa-1f35-4b7d-8bdf-c26ca6bded93 button.colab-df-convert');\n",
              "        buttonEl.style.display =\n",
              "          google.colab.kernel.accessAllowed ? 'block' : 'none';\n",
              "\n",
              "        async function convertToInteractive(key) {\n",
              "          const element = document.querySelector('#df-fedb84aa-1f35-4b7d-8bdf-c26ca6bded93');\n",
              "          const dataTable =\n",
              "            await google.colab.kernel.invokeFunction('convertToInteractive',\n",
              "                                                     [key], {});\n",
              "          if (!dataTable) return;\n",
              "\n",
              "          const docLinkHtml = 'Like what you see? Visit the ' +\n",
              "            '<a target=\"_blank\" href=https://colab.research.google.com/notebooks/data_table.ipynb>data table notebook</a>'\n",
              "            + ' to learn more about interactive tables.';\n",
              "          element.innerHTML = '';\n",
              "          dataTable['output_type'] = 'display_data';\n",
              "          await google.colab.output.renderOutput(dataTable, element);\n",
              "          const docLink = document.createElement('div');\n",
              "          docLink.innerHTML = docLinkHtml;\n",
              "          element.appendChild(docLink);\n",
              "        }\n",
              "      </script>\n",
              "    </div>\n",
              "  </div>\n",
              "  "
            ]
          },
          "metadata": {},
          "execution_count": 4
        }
      ],
      "source": [
        "# CONTRACTS <- read.csv(\"/content/CONTRACTS.csv\")           # R code\n",
        "# head(CONTRACTS)\n",
        "\n",
        "contracts = pd.read_csv(path+'/CONTRACTS.csv')              # Python code\n",
        "contracts.head()"
      ]
    },
    {
      "cell_type": "code",
      "execution_count": null,
      "metadata": {
        "id": "WM-ZmB0XIG1p",
        "colab": {
          "base_uri": "https://localhost:8080/",
          "height": 269
        },
        "outputId": "15427189-752a-4b3d-ad8f-6f5c085f55a2"
      },
      "outputs": [
        {
          "output_type": "execute_result",
          "data": {
            "text/plain": [
              "                                    0\n",
              "0  Japanese (except Nissan) or Korean\n",
              "1                                Fiat\n",
              "2        Opel, General Motors or Ford\n",
              "3           Mercedes, Chrysler or BMW\n",
              "4          Renault, Nissan or Citroen\n",
              "5     Volkswagen, Audi, Skoda or Seat\n",
              "6                               other"
            ],
            "text/html": [
              "\n",
              "  <div id=\"df-e8579cb3-dc38-4974-9565-2184fb239f32\">\n",
              "    <div class=\"colab-df-container\">\n",
              "      <div>\n",
              "<style scoped>\n",
              "    .dataframe tbody tr th:only-of-type {\n",
              "        vertical-align: middle;\n",
              "    }\n",
              "\n",
              "    .dataframe tbody tr th {\n",
              "        vertical-align: top;\n",
              "    }\n",
              "\n",
              "    .dataframe thead th {\n",
              "        text-align: right;\n",
              "    }\n",
              "</style>\n",
              "<table border=\"1\" class=\"dataframe\">\n",
              "  <thead>\n",
              "    <tr style=\"text-align: right;\">\n",
              "      <th></th>\n",
              "      <th>0</th>\n",
              "    </tr>\n",
              "  </thead>\n",
              "  <tbody>\n",
              "    <tr>\n",
              "      <th>0</th>\n",
              "      <td>Japanese (except Nissan) or Korean</td>\n",
              "    </tr>\n",
              "    <tr>\n",
              "      <th>1</th>\n",
              "      <td>Fiat</td>\n",
              "    </tr>\n",
              "    <tr>\n",
              "      <th>2</th>\n",
              "      <td>Opel, General Motors or Ford</td>\n",
              "    </tr>\n",
              "    <tr>\n",
              "      <th>3</th>\n",
              "      <td>Mercedes, Chrysler or BMW</td>\n",
              "    </tr>\n",
              "    <tr>\n",
              "      <th>4</th>\n",
              "      <td>Renault, Nissan or Citroen</td>\n",
              "    </tr>\n",
              "    <tr>\n",
              "      <th>5</th>\n",
              "      <td>Volkswagen, Audi, Skoda or Seat</td>\n",
              "    </tr>\n",
              "    <tr>\n",
              "      <th>6</th>\n",
              "      <td>other</td>\n",
              "    </tr>\n",
              "  </tbody>\n",
              "</table>\n",
              "</div>\n",
              "      <button class=\"colab-df-convert\" onclick=\"convertToInteractive('df-e8579cb3-dc38-4974-9565-2184fb239f32')\"\n",
              "              title=\"Convert this dataframe to an interactive table.\"\n",
              "              style=\"display:none;\">\n",
              "        \n",
              "  <svg xmlns=\"http://www.w3.org/2000/svg\" height=\"24px\"viewBox=\"0 0 24 24\"\n",
              "       width=\"24px\">\n",
              "    <path d=\"M0 0h24v24H0V0z\" fill=\"none\"/>\n",
              "    <path d=\"M18.56 5.44l.94 2.06.94-2.06 2.06-.94-2.06-.94-.94-2.06-.94 2.06-2.06.94zm-11 1L8.5 8.5l.94-2.06 2.06-.94-2.06-.94L8.5 2.5l-.94 2.06-2.06.94zm10 10l.94 2.06.94-2.06 2.06-.94-2.06-.94-.94-2.06-.94 2.06-2.06.94z\"/><path d=\"M17.41 7.96l-1.37-1.37c-.4-.4-.92-.59-1.43-.59-.52 0-1.04.2-1.43.59L10.3 9.45l-7.72 7.72c-.78.78-.78 2.05 0 2.83L4 21.41c.39.39.9.59 1.41.59.51 0 1.02-.2 1.41-.59l7.78-7.78 2.81-2.81c.8-.78.8-2.07 0-2.86zM5.41 20L4 18.59l7.72-7.72 1.47 1.35L5.41 20z\"/>\n",
              "  </svg>\n",
              "      </button>\n",
              "      \n",
              "  <style>\n",
              "    .colab-df-container {\n",
              "      display:flex;\n",
              "      flex-wrap:wrap;\n",
              "      gap: 12px;\n",
              "    }\n",
              "\n",
              "    .colab-df-convert {\n",
              "      background-color: #E8F0FE;\n",
              "      border: none;\n",
              "      border-radius: 50%;\n",
              "      cursor: pointer;\n",
              "      display: none;\n",
              "      fill: #1967D2;\n",
              "      height: 32px;\n",
              "      padding: 0 0 0 0;\n",
              "      width: 32px;\n",
              "    }\n",
              "\n",
              "    .colab-df-convert:hover {\n",
              "      background-color: #E2EBFA;\n",
              "      box-shadow: 0px 1px 2px rgba(60, 64, 67, 0.3), 0px 1px 3px 1px rgba(60, 64, 67, 0.15);\n",
              "      fill: #174EA6;\n",
              "    }\n",
              "\n",
              "    [theme=dark] .colab-df-convert {\n",
              "      background-color: #3B4455;\n",
              "      fill: #D2E3FC;\n",
              "    }\n",
              "\n",
              "    [theme=dark] .colab-df-convert:hover {\n",
              "      background-color: #434B5C;\n",
              "      box-shadow: 0px 1px 3px 1px rgba(0, 0, 0, 0.15);\n",
              "      filter: drop-shadow(0px 1px 2px rgba(0, 0, 0, 0.3));\n",
              "      fill: #FFFFFF;\n",
              "    }\n",
              "  </style>\n",
              "\n",
              "      <script>\n",
              "        const buttonEl =\n",
              "          document.querySelector('#df-e8579cb3-dc38-4974-9565-2184fb239f32 button.colab-df-convert');\n",
              "        buttonEl.style.display =\n",
              "          google.colab.kernel.accessAllowed ? 'block' : 'none';\n",
              "\n",
              "        async function convertToInteractive(key) {\n",
              "          const element = document.querySelector('#df-e8579cb3-dc38-4974-9565-2184fb239f32');\n",
              "          const dataTable =\n",
              "            await google.colab.kernel.invokeFunction('convertToInteractive',\n",
              "                                                     [key], {});\n",
              "          if (!dataTable) return;\n",
              "\n",
              "          const docLinkHtml = 'Like what you see? Visit the ' +\n",
              "            '<a target=\"_blank\" href=https://colab.research.google.com/notebooks/data_table.ipynb>data table notebook</a>'\n",
              "            + ' to learn more about interactive tables.';\n",
              "          element.innerHTML = '';\n",
              "          dataTable['output_type'] = 'display_data';\n",
              "          await google.colab.output.renderOutput(dataTable, element);\n",
              "          const docLink = document.createElement('div');\n",
              "          docLink.innerHTML = docLinkHtml;\n",
              "          element.appendChild(docLink);\n",
              "        }\n",
              "      </script>\n",
              "    </div>\n",
              "  </div>\n",
              "  "
            ]
          },
          "metadata": {},
          "execution_count": 5
        }
      ],
      "source": [
        "pd.DataFrame(contracts.Brand.unique())     # value names are not as same as textbook"
      ]
    },
    {
      "cell_type": "code",
      "execution_count": null,
      "metadata": {
        "id": "TrumBNnY74ug",
        "colab": {
          "base_uri": "https://localhost:8080/",
          "height": 206
        },
        "outputId": "2ea291c4-3f6b-445a-f48a-8c8803be6b9a"
      },
      "outputs": [
        {
          "output_type": "execute_result",
          "data": {
            "text/plain": [
              "   0\n",
              "0  0\n",
              "1  1\n",
              "2  2\n",
              "3  3\n",
              "4  4"
            ],
            "text/html": [
              "\n",
              "  <div id=\"df-a7655744-5855-4894-a0d6-cde6898aa482\">\n",
              "    <div class=\"colab-df-container\">\n",
              "      <div>\n",
              "<style scoped>\n",
              "    .dataframe tbody tr th:only-of-type {\n",
              "        vertical-align: middle;\n",
              "    }\n",
              "\n",
              "    .dataframe tbody tr th {\n",
              "        vertical-align: top;\n",
              "    }\n",
              "\n",
              "    .dataframe thead th {\n",
              "        text-align: right;\n",
              "    }\n",
              "</style>\n",
              "<table border=\"1\" class=\"dataframe\">\n",
              "  <thead>\n",
              "    <tr style=\"text-align: right;\">\n",
              "      <th></th>\n",
              "      <th>0</th>\n",
              "    </tr>\n",
              "  </thead>\n",
              "  <tbody>\n",
              "    <tr>\n",
              "      <th>0</th>\n",
              "      <td>0</td>\n",
              "    </tr>\n",
              "    <tr>\n",
              "      <th>1</th>\n",
              "      <td>1</td>\n",
              "    </tr>\n",
              "    <tr>\n",
              "      <th>2</th>\n",
              "      <td>2</td>\n",
              "    </tr>\n",
              "    <tr>\n",
              "      <th>3</th>\n",
              "      <td>3</td>\n",
              "    </tr>\n",
              "    <tr>\n",
              "      <th>4</th>\n",
              "      <td>4</td>\n",
              "    </tr>\n",
              "  </tbody>\n",
              "</table>\n",
              "</div>\n",
              "      <button class=\"colab-df-convert\" onclick=\"convertToInteractive('df-a7655744-5855-4894-a0d6-cde6898aa482')\"\n",
              "              title=\"Convert this dataframe to an interactive table.\"\n",
              "              style=\"display:none;\">\n",
              "        \n",
              "  <svg xmlns=\"http://www.w3.org/2000/svg\" height=\"24px\"viewBox=\"0 0 24 24\"\n",
              "       width=\"24px\">\n",
              "    <path d=\"M0 0h24v24H0V0z\" fill=\"none\"/>\n",
              "    <path d=\"M18.56 5.44l.94 2.06.94-2.06 2.06-.94-2.06-.94-.94-2.06-.94 2.06-2.06.94zm-11 1L8.5 8.5l.94-2.06 2.06-.94-2.06-.94L8.5 2.5l-.94 2.06-2.06.94zm10 10l.94 2.06.94-2.06 2.06-.94-2.06-.94-.94-2.06-.94 2.06-2.06.94z\"/><path d=\"M17.41 7.96l-1.37-1.37c-.4-.4-.92-.59-1.43-.59-.52 0-1.04.2-1.43.59L10.3 9.45l-7.72 7.72c-.78.78-.78 2.05 0 2.83L4 21.41c.39.39.9.59 1.41.59.51 0 1.02-.2 1.41-.59l7.78-7.78 2.81-2.81c.8-.78.8-2.07 0-2.86zM5.41 20L4 18.59l7.72-7.72 1.47 1.35L5.41 20z\"/>\n",
              "  </svg>\n",
              "      </button>\n",
              "      \n",
              "  <style>\n",
              "    .colab-df-container {\n",
              "      display:flex;\n",
              "      flex-wrap:wrap;\n",
              "      gap: 12px;\n",
              "    }\n",
              "\n",
              "    .colab-df-convert {\n",
              "      background-color: #E8F0FE;\n",
              "      border: none;\n",
              "      border-radius: 50%;\n",
              "      cursor: pointer;\n",
              "      display: none;\n",
              "      fill: #1967D2;\n",
              "      height: 32px;\n",
              "      padding: 0 0 0 0;\n",
              "      width: 32px;\n",
              "    }\n",
              "\n",
              "    .colab-df-convert:hover {\n",
              "      background-color: #E2EBFA;\n",
              "      box-shadow: 0px 1px 2px rgba(60, 64, 67, 0.3), 0px 1px 3px 1px rgba(60, 64, 67, 0.15);\n",
              "      fill: #174EA6;\n",
              "    }\n",
              "\n",
              "    [theme=dark] .colab-df-convert {\n",
              "      background-color: #3B4455;\n",
              "      fill: #D2E3FC;\n",
              "    }\n",
              "\n",
              "    [theme=dark] .colab-df-convert:hover {\n",
              "      background-color: #434B5C;\n",
              "      box-shadow: 0px 1px 3px 1px rgba(0, 0, 0, 0.15);\n",
              "      filter: drop-shadow(0px 1px 2px rgba(0, 0, 0, 0.3));\n",
              "      fill: #FFFFFF;\n",
              "    }\n",
              "  </style>\n",
              "\n",
              "      <script>\n",
              "        const buttonEl =\n",
              "          document.querySelector('#df-a7655744-5855-4894-a0d6-cde6898aa482 button.colab-df-convert');\n",
              "        buttonEl.style.display =\n",
              "          google.colab.kernel.accessAllowed ? 'block' : 'none';\n",
              "\n",
              "        async function convertToInteractive(key) {\n",
              "          const element = document.querySelector('#df-a7655744-5855-4894-a0d6-cde6898aa482');\n",
              "          const dataTable =\n",
              "            await google.colab.kernel.invokeFunction('convertToInteractive',\n",
              "                                                     [key], {});\n",
              "          if (!dataTable) return;\n",
              "\n",
              "          const docLinkHtml = 'Like what you see? Visit the ' +\n",
              "            '<a target=\"_blank\" href=https://colab.research.google.com/notebooks/data_table.ipynb>data table notebook</a>'\n",
              "            + ' to learn more about interactive tables.';\n",
              "          element.innerHTML = '';\n",
              "          dataTable['output_type'] = 'display_data';\n",
              "          await google.colab.output.renderOutput(dataTable, element);\n",
              "          const docLink = document.createElement('div');\n",
              "          docLink.innerHTML = docLinkHtml;\n",
              "          element.appendChild(docLink);\n",
              "        }\n",
              "      </script>\n",
              "    </div>\n",
              "  </div>\n",
              "  "
            ]
          },
          "metadata": {},
          "execution_count": 6
        }
      ],
      "source": [
        "pd.DataFrame(contracts.ClaimNb.unique())"
      ]
    },
    {
      "cell_type": "code",
      "execution_count": null,
      "metadata": {
        "id": "Ym_pYozzAx0S",
        "colab": {
          "base_uri": "https://localhost:8080/",
          "height": 426
        },
        "outputId": "7f637262-3c2d-4067-d113-5091b163a274"
      },
      "outputs": [
        {
          "output_type": "execute_result",
          "data": {
            "text/plain": [
              "   Power\n",
              "f  95718\n",
              "g  91198\n",
              "e  77022\n",
              "d  68014\n",
              "h  26698\n",
              "j  18038\n",
              "i  17616\n",
              "k   9537\n",
              "l   4681\n",
              "m   1832\n",
              "o   1508\n",
              "n   1307"
            ],
            "text/html": [
              "\n",
              "  <div id=\"df-00ff7ea0-376f-4244-b31a-4f741a61bae8\">\n",
              "    <div class=\"colab-df-container\">\n",
              "      <div>\n",
              "<style scoped>\n",
              "    .dataframe tbody tr th:only-of-type {\n",
              "        vertical-align: middle;\n",
              "    }\n",
              "\n",
              "    .dataframe tbody tr th {\n",
              "        vertical-align: top;\n",
              "    }\n",
              "\n",
              "    .dataframe thead th {\n",
              "        text-align: right;\n",
              "    }\n",
              "</style>\n",
              "<table border=\"1\" class=\"dataframe\">\n",
              "  <thead>\n",
              "    <tr style=\"text-align: right;\">\n",
              "      <th></th>\n",
              "      <th>Power</th>\n",
              "    </tr>\n",
              "  </thead>\n",
              "  <tbody>\n",
              "    <tr>\n",
              "      <th>f</th>\n",
              "      <td>95718</td>\n",
              "    </tr>\n",
              "    <tr>\n",
              "      <th>g</th>\n",
              "      <td>91198</td>\n",
              "    </tr>\n",
              "    <tr>\n",
              "      <th>e</th>\n",
              "      <td>77022</td>\n",
              "    </tr>\n",
              "    <tr>\n",
              "      <th>d</th>\n",
              "      <td>68014</td>\n",
              "    </tr>\n",
              "    <tr>\n",
              "      <th>h</th>\n",
              "      <td>26698</td>\n",
              "    </tr>\n",
              "    <tr>\n",
              "      <th>j</th>\n",
              "      <td>18038</td>\n",
              "    </tr>\n",
              "    <tr>\n",
              "      <th>i</th>\n",
              "      <td>17616</td>\n",
              "    </tr>\n",
              "    <tr>\n",
              "      <th>k</th>\n",
              "      <td>9537</td>\n",
              "    </tr>\n",
              "    <tr>\n",
              "      <th>l</th>\n",
              "      <td>4681</td>\n",
              "    </tr>\n",
              "    <tr>\n",
              "      <th>m</th>\n",
              "      <td>1832</td>\n",
              "    </tr>\n",
              "    <tr>\n",
              "      <th>o</th>\n",
              "      <td>1508</td>\n",
              "    </tr>\n",
              "    <tr>\n",
              "      <th>n</th>\n",
              "      <td>1307</td>\n",
              "    </tr>\n",
              "  </tbody>\n",
              "</table>\n",
              "</div>\n",
              "      <button class=\"colab-df-convert\" onclick=\"convertToInteractive('df-00ff7ea0-376f-4244-b31a-4f741a61bae8')\"\n",
              "              title=\"Convert this dataframe to an interactive table.\"\n",
              "              style=\"display:none;\">\n",
              "        \n",
              "  <svg xmlns=\"http://www.w3.org/2000/svg\" height=\"24px\"viewBox=\"0 0 24 24\"\n",
              "       width=\"24px\">\n",
              "    <path d=\"M0 0h24v24H0V0z\" fill=\"none\"/>\n",
              "    <path d=\"M18.56 5.44l.94 2.06.94-2.06 2.06-.94-2.06-.94-.94-2.06-.94 2.06-2.06.94zm-11 1L8.5 8.5l.94-2.06 2.06-.94-2.06-.94L8.5 2.5l-.94 2.06-2.06.94zm10 10l.94 2.06.94-2.06 2.06-.94-2.06-.94-.94-2.06-.94 2.06-2.06.94z\"/><path d=\"M17.41 7.96l-1.37-1.37c-.4-.4-.92-.59-1.43-.59-.52 0-1.04.2-1.43.59L10.3 9.45l-7.72 7.72c-.78.78-.78 2.05 0 2.83L4 21.41c.39.39.9.59 1.41.59.51 0 1.02-.2 1.41-.59l7.78-7.78 2.81-2.81c.8-.78.8-2.07 0-2.86zM5.41 20L4 18.59l7.72-7.72 1.47 1.35L5.41 20z\"/>\n",
              "  </svg>\n",
              "      </button>\n",
              "      \n",
              "  <style>\n",
              "    .colab-df-container {\n",
              "      display:flex;\n",
              "      flex-wrap:wrap;\n",
              "      gap: 12px;\n",
              "    }\n",
              "\n",
              "    .colab-df-convert {\n",
              "      background-color: #E8F0FE;\n",
              "      border: none;\n",
              "      border-radius: 50%;\n",
              "      cursor: pointer;\n",
              "      display: none;\n",
              "      fill: #1967D2;\n",
              "      height: 32px;\n",
              "      padding: 0 0 0 0;\n",
              "      width: 32px;\n",
              "    }\n",
              "\n",
              "    .colab-df-convert:hover {\n",
              "      background-color: #E2EBFA;\n",
              "      box-shadow: 0px 1px 2px rgba(60, 64, 67, 0.3), 0px 1px 3px 1px rgba(60, 64, 67, 0.15);\n",
              "      fill: #174EA6;\n",
              "    }\n",
              "\n",
              "    [theme=dark] .colab-df-convert {\n",
              "      background-color: #3B4455;\n",
              "      fill: #D2E3FC;\n",
              "    }\n",
              "\n",
              "    [theme=dark] .colab-df-convert:hover {\n",
              "      background-color: #434B5C;\n",
              "      box-shadow: 0px 1px 3px 1px rgba(0, 0, 0, 0.15);\n",
              "      filter: drop-shadow(0px 1px 2px rgba(0, 0, 0, 0.3));\n",
              "      fill: #FFFFFF;\n",
              "    }\n",
              "  </style>\n",
              "\n",
              "      <script>\n",
              "        const buttonEl =\n",
              "          document.querySelector('#df-00ff7ea0-376f-4244-b31a-4f741a61bae8 button.colab-df-convert');\n",
              "        buttonEl.style.display =\n",
              "          google.colab.kernel.accessAllowed ? 'block' : 'none';\n",
              "\n",
              "        async function convertToInteractive(key) {\n",
              "          const element = document.querySelector('#df-00ff7ea0-376f-4244-b31a-4f741a61bae8');\n",
              "          const dataTable =\n",
              "            await google.colab.kernel.invokeFunction('convertToInteractive',\n",
              "                                                     [key], {});\n",
              "          if (!dataTable) return;\n",
              "\n",
              "          const docLinkHtml = 'Like what you see? Visit the ' +\n",
              "            '<a target=\"_blank\" href=https://colab.research.google.com/notebooks/data_table.ipynb>data table notebook</a>'\n",
              "            + ' to learn more about interactive tables.';\n",
              "          element.innerHTML = '';\n",
              "          dataTable['output_type'] = 'display_data';\n",
              "          await google.colab.output.renderOutput(dataTable, element);\n",
              "          const docLink = document.createElement('div');\n",
              "          docLink.innerHTML = docLinkHtml;\n",
              "          element.appendChild(docLink);\n",
              "        }\n",
              "      </script>\n",
              "    </div>\n",
              "  </div>\n",
              "  "
            ]
          },
          "metadata": {},
          "execution_count": 7
        }
      ],
      "source": [
        "pd.DataFrame(contracts.Power.value_counts())"
      ]
    },
    {
      "cell_type": "code",
      "execution_count": null,
      "metadata": {
        "id": "WjUzZIv19Xpd",
        "colab": {
          "base_uri": "https://localhost:8080/",
          "height": 269
        },
        "outputId": "5f0a764d-4faa-4160-c43d-190bbd87463b"
      },
      "outputs": [
        {
          "output_type": "execute_result",
          "data": {
            "text/plain": [
              "                                     Brand\n",
              "Renault, Nissan or Citroen          218200\n",
              "Japanese (except Nissan) or Korean   79060\n",
              "Opel, General Motors or Ford         37402\n",
              "Volkswagen, Audi, Skoda or Seat      32638\n",
              "Mercedes, Chrysler or BMW            19280\n",
              "Fiat                                 16723\n",
              "other                                 9866"
            ],
            "text/html": [
              "\n",
              "  <div id=\"df-7a980db5-d2a9-4963-8f59-0eb5b422502c\">\n",
              "    <div class=\"colab-df-container\">\n",
              "      <div>\n",
              "<style scoped>\n",
              "    .dataframe tbody tr th:only-of-type {\n",
              "        vertical-align: middle;\n",
              "    }\n",
              "\n",
              "    .dataframe tbody tr th {\n",
              "        vertical-align: top;\n",
              "    }\n",
              "\n",
              "    .dataframe thead th {\n",
              "        text-align: right;\n",
              "    }\n",
              "</style>\n",
              "<table border=\"1\" class=\"dataframe\">\n",
              "  <thead>\n",
              "    <tr style=\"text-align: right;\">\n",
              "      <th></th>\n",
              "      <th>Brand</th>\n",
              "    </tr>\n",
              "  </thead>\n",
              "  <tbody>\n",
              "    <tr>\n",
              "      <th>Renault, Nissan or Citroen</th>\n",
              "      <td>218200</td>\n",
              "    </tr>\n",
              "    <tr>\n",
              "      <th>Japanese (except Nissan) or Korean</th>\n",
              "      <td>79060</td>\n",
              "    </tr>\n",
              "    <tr>\n",
              "      <th>Opel, General Motors or Ford</th>\n",
              "      <td>37402</td>\n",
              "    </tr>\n",
              "    <tr>\n",
              "      <th>Volkswagen, Audi, Skoda or Seat</th>\n",
              "      <td>32638</td>\n",
              "    </tr>\n",
              "    <tr>\n",
              "      <th>Mercedes, Chrysler or BMW</th>\n",
              "      <td>19280</td>\n",
              "    </tr>\n",
              "    <tr>\n",
              "      <th>Fiat</th>\n",
              "      <td>16723</td>\n",
              "    </tr>\n",
              "    <tr>\n",
              "      <th>other</th>\n",
              "      <td>9866</td>\n",
              "    </tr>\n",
              "  </tbody>\n",
              "</table>\n",
              "</div>\n",
              "      <button class=\"colab-df-convert\" onclick=\"convertToInteractive('df-7a980db5-d2a9-4963-8f59-0eb5b422502c')\"\n",
              "              title=\"Convert this dataframe to an interactive table.\"\n",
              "              style=\"display:none;\">\n",
              "        \n",
              "  <svg xmlns=\"http://www.w3.org/2000/svg\" height=\"24px\"viewBox=\"0 0 24 24\"\n",
              "       width=\"24px\">\n",
              "    <path d=\"M0 0h24v24H0V0z\" fill=\"none\"/>\n",
              "    <path d=\"M18.56 5.44l.94 2.06.94-2.06 2.06-.94-2.06-.94-.94-2.06-.94 2.06-2.06.94zm-11 1L8.5 8.5l.94-2.06 2.06-.94-2.06-.94L8.5 2.5l-.94 2.06-2.06.94zm10 10l.94 2.06.94-2.06 2.06-.94-2.06-.94-.94-2.06-.94 2.06-2.06.94z\"/><path d=\"M17.41 7.96l-1.37-1.37c-.4-.4-.92-.59-1.43-.59-.52 0-1.04.2-1.43.59L10.3 9.45l-7.72 7.72c-.78.78-.78 2.05 0 2.83L4 21.41c.39.39.9.59 1.41.59.51 0 1.02-.2 1.41-.59l7.78-7.78 2.81-2.81c.8-.78.8-2.07 0-2.86zM5.41 20L4 18.59l7.72-7.72 1.47 1.35L5.41 20z\"/>\n",
              "  </svg>\n",
              "      </button>\n",
              "      \n",
              "  <style>\n",
              "    .colab-df-container {\n",
              "      display:flex;\n",
              "      flex-wrap:wrap;\n",
              "      gap: 12px;\n",
              "    }\n",
              "\n",
              "    .colab-df-convert {\n",
              "      background-color: #E8F0FE;\n",
              "      border: none;\n",
              "      border-radius: 50%;\n",
              "      cursor: pointer;\n",
              "      display: none;\n",
              "      fill: #1967D2;\n",
              "      height: 32px;\n",
              "      padding: 0 0 0 0;\n",
              "      width: 32px;\n",
              "    }\n",
              "\n",
              "    .colab-df-convert:hover {\n",
              "      background-color: #E2EBFA;\n",
              "      box-shadow: 0px 1px 2px rgba(60, 64, 67, 0.3), 0px 1px 3px 1px rgba(60, 64, 67, 0.15);\n",
              "      fill: #174EA6;\n",
              "    }\n",
              "\n",
              "    [theme=dark] .colab-df-convert {\n",
              "      background-color: #3B4455;\n",
              "      fill: #D2E3FC;\n",
              "    }\n",
              "\n",
              "    [theme=dark] .colab-df-convert:hover {\n",
              "      background-color: #434B5C;\n",
              "      box-shadow: 0px 1px 3px 1px rgba(0, 0, 0, 0.15);\n",
              "      filter: drop-shadow(0px 1px 2px rgba(0, 0, 0, 0.3));\n",
              "      fill: #FFFFFF;\n",
              "    }\n",
              "  </style>\n",
              "\n",
              "      <script>\n",
              "        const buttonEl =\n",
              "          document.querySelector('#df-7a980db5-d2a9-4963-8f59-0eb5b422502c button.colab-df-convert');\n",
              "        buttonEl.style.display =\n",
              "          google.colab.kernel.accessAllowed ? 'block' : 'none';\n",
              "\n",
              "        async function convertToInteractive(key) {\n",
              "          const element = document.querySelector('#df-7a980db5-d2a9-4963-8f59-0eb5b422502c');\n",
              "          const dataTable =\n",
              "            await google.colab.kernel.invokeFunction('convertToInteractive',\n",
              "                                                     [key], {});\n",
              "          if (!dataTable) return;\n",
              "\n",
              "          const docLinkHtml = 'Like what you see? Visit the ' +\n",
              "            '<a target=\"_blank\" href=https://colab.research.google.com/notebooks/data_table.ipynb>data table notebook</a>'\n",
              "            + ' to learn more about interactive tables.';\n",
              "          element.innerHTML = '';\n",
              "          dataTable['output_type'] = 'display_data';\n",
              "          await google.colab.output.renderOutput(dataTable, element);\n",
              "          const docLink = document.createElement('div');\n",
              "          docLink.innerHTML = docLinkHtml;\n",
              "          element.appendChild(docLink);\n",
              "        }\n",
              "      </script>\n",
              "    </div>\n",
              "  </div>\n",
              "  "
            ]
          },
          "metadata": {},
          "execution_count": 8
        }
      ],
      "source": [
        "pd.DataFrame(contracts['Brand'].value_counts())"
      ]
    },
    {
      "cell_type": "code",
      "execution_count": null,
      "metadata": {
        "id": "ZLgiBsI0t2Kq",
        "colab": {
          "base_uri": "https://localhost:8080/"
        },
        "outputId": "b6de844c-179c-4c9e-b84d-d9a18ff5be47"
      },
      "outputs": [
        {
          "output_type": "execute_result",
          "data": {
            "text/plain": [
              "Index(['Unnamed: 0', 'PolicyID', 'ClaimNb', 'Exposure', 'Power', 'CarAge',\n",
              "       'DriverAge', 'Brand', 'Gas', 'Region', 'Density'],\n",
              "      dtype='object')"
            ]
          },
          "metadata": {},
          "execution_count": 9
        }
      ],
      "source": [
        "# names(CONTRACTS)           # R code\n",
        "\n",
        "contracts.columns            # Python code"
      ]
    },
    {
      "cell_type": "code",
      "execution_count": null,
      "metadata": {
        "id": "ravon2vNbn4k",
        "colab": {
          "base_uri": "https://localhost:8080/"
        },
        "outputId": "444791d1-adf9-46c6-97d6-e4cc2c71df78"
      },
      "outputs": [
        {
          "output_type": "execute_result",
          "data": {
            "text/plain": [
              "(413169, 11)"
            ]
          },
          "metadata": {},
          "execution_count": 10
        }
      ],
      "source": [
        "contracts.shape"
      ]
    },
    {
      "cell_type": "code",
      "execution_count": null,
      "metadata": {
        "id": "v-FJgNU0896u"
      },
      "outputs": [],
      "source": [
        "contracts.drop('Unnamed: 0',axis = 'columns',inplace = True)\n",
        "contracts= contracts.reset_index(drop=True)\n",
        "contracts.sort_values('PolicyID' , ascending=True, inplace=True)"
      ]
    },
    {
      "cell_type": "code",
      "execution_count": null,
      "metadata": {
        "id": "wpwOsYpaACml",
        "colab": {
          "base_uri": "https://localhost:8080/"
        },
        "outputId": "75087c14-1a1c-4787-d230-2c7955f57904"
      },
      "outputs": [
        {
          "output_type": "execute_result",
          "data": {
            "text/plain": [
              "(413169, 10)"
            ]
          },
          "metadata": {},
          "execution_count": 12
        }
      ],
      "source": [
        "contracts.shape"
      ]
    },
    {
      "cell_type": "code",
      "execution_count": null,
      "metadata": {
        "id": "tips2dLV9Q19",
        "colab": {
          "base_uri": "https://localhost:8080/"
        },
        "outputId": "985988ec-c0fb-4157-e891-8ddf2ef9cd79"
      },
      "outputs": [
        {
          "output_type": "stream",
          "name": "stdout",
          "text": [
            "<class 'pandas.core.frame.DataFrame'>\n",
            "Int64Index: 413169 entries, 0 to 413168\n",
            "Data columns (total 10 columns):\n",
            " #   Column     Non-Null Count   Dtype  \n",
            "---  ------     --------------   -----  \n",
            " 0   PolicyID   413169 non-null  int64  \n",
            " 1   ClaimNb    413169 non-null  int64  \n",
            " 2   Exposure   413169 non-null  float64\n",
            " 3   Power      413169 non-null  object \n",
            " 4   CarAge     413169 non-null  int64  \n",
            " 5   DriverAge  413169 non-null  int64  \n",
            " 6   Brand      413169 non-null  object \n",
            " 7   Gas        413169 non-null  object \n",
            " 8   Region     413169 non-null  object \n",
            " 9   Density    413169 non-null  int64  \n",
            "dtypes: float64(1), int64(5), object(4)\n",
            "memory usage: 34.7+ MB\n"
          ]
        }
      ],
      "source": [
        "contracts.info()"
      ]
    },
    {
      "cell_type": "markdown",
      "metadata": {
        "id": "F7QLDwAevL8g"
      },
      "source": [
        "in the above list **Power, Brand , Gas , Region** are categorical variables."
      ]
    },
    {
      "cell_type": "code",
      "execution_count": null,
      "metadata": {
        "id": "wfNJK8_K8a11",
        "colab": {
          "base_uri": "https://localhost:8080/",
          "height": 300
        },
        "outputId": "26ab8819-1840-4981-f24e-69054188871e"
      },
      "outputs": [
        {
          "output_type": "execute_result",
          "data": {
            "text/plain": [
              "            PolicyID        ClaimNb       Exposure         CarAge  \\\n",
              "count  413169.000000  413169.000000  413169.000000  413169.000000   \n",
              "mean   206585.000000       0.039163       0.561088       7.532404   \n",
              "std    119271.761023       0.204053       0.369477       5.763011   \n",
              "min         1.000000       0.000000       0.002732       0.000000   \n",
              "25%    103293.000000       0.000000       0.200000       3.000000   \n",
              "50%    206585.000000       0.000000       0.540000       7.000000   \n",
              "75%    309877.000000       0.000000       1.000000      12.000000   \n",
              "max    413169.000000       4.000000       1.990000     100.000000   \n",
              "\n",
              "           DriverAge        Density  \n",
              "count  413169.000000  413169.000000  \n",
              "mean       45.319876    1985.153913  \n",
              "std        14.328120    4776.254543  \n",
              "min        18.000000       2.000000  \n",
              "25%        34.000000      67.000000  \n",
              "50%        44.000000     287.000000  \n",
              "75%        54.000000    1410.000000  \n",
              "max        99.000000   27000.000000  "
            ],
            "text/html": [
              "\n",
              "  <div id=\"df-7394d805-ad24-4007-b475-c7e4f17a5fb5\">\n",
              "    <div class=\"colab-df-container\">\n",
              "      <div>\n",
              "<style scoped>\n",
              "    .dataframe tbody tr th:only-of-type {\n",
              "        vertical-align: middle;\n",
              "    }\n",
              "\n",
              "    .dataframe tbody tr th {\n",
              "        vertical-align: top;\n",
              "    }\n",
              "\n",
              "    .dataframe thead th {\n",
              "        text-align: right;\n",
              "    }\n",
              "</style>\n",
              "<table border=\"1\" class=\"dataframe\">\n",
              "  <thead>\n",
              "    <tr style=\"text-align: right;\">\n",
              "      <th></th>\n",
              "      <th>PolicyID</th>\n",
              "      <th>ClaimNb</th>\n",
              "      <th>Exposure</th>\n",
              "      <th>CarAge</th>\n",
              "      <th>DriverAge</th>\n",
              "      <th>Density</th>\n",
              "    </tr>\n",
              "  </thead>\n",
              "  <tbody>\n",
              "    <tr>\n",
              "      <th>count</th>\n",
              "      <td>413169.000000</td>\n",
              "      <td>413169.000000</td>\n",
              "      <td>413169.000000</td>\n",
              "      <td>413169.000000</td>\n",
              "      <td>413169.000000</td>\n",
              "      <td>413169.000000</td>\n",
              "    </tr>\n",
              "    <tr>\n",
              "      <th>mean</th>\n",
              "      <td>206585.000000</td>\n",
              "      <td>0.039163</td>\n",
              "      <td>0.561088</td>\n",
              "      <td>7.532404</td>\n",
              "      <td>45.319876</td>\n",
              "      <td>1985.153913</td>\n",
              "    </tr>\n",
              "    <tr>\n",
              "      <th>std</th>\n",
              "      <td>119271.761023</td>\n",
              "      <td>0.204053</td>\n",
              "      <td>0.369477</td>\n",
              "      <td>5.763011</td>\n",
              "      <td>14.328120</td>\n",
              "      <td>4776.254543</td>\n",
              "    </tr>\n",
              "    <tr>\n",
              "      <th>min</th>\n",
              "      <td>1.000000</td>\n",
              "      <td>0.000000</td>\n",
              "      <td>0.002732</td>\n",
              "      <td>0.000000</td>\n",
              "      <td>18.000000</td>\n",
              "      <td>2.000000</td>\n",
              "    </tr>\n",
              "    <tr>\n",
              "      <th>25%</th>\n",
              "      <td>103293.000000</td>\n",
              "      <td>0.000000</td>\n",
              "      <td>0.200000</td>\n",
              "      <td>3.000000</td>\n",
              "      <td>34.000000</td>\n",
              "      <td>67.000000</td>\n",
              "    </tr>\n",
              "    <tr>\n",
              "      <th>50%</th>\n",
              "      <td>206585.000000</td>\n",
              "      <td>0.000000</td>\n",
              "      <td>0.540000</td>\n",
              "      <td>7.000000</td>\n",
              "      <td>44.000000</td>\n",
              "      <td>287.000000</td>\n",
              "    </tr>\n",
              "    <tr>\n",
              "      <th>75%</th>\n",
              "      <td>309877.000000</td>\n",
              "      <td>0.000000</td>\n",
              "      <td>1.000000</td>\n",
              "      <td>12.000000</td>\n",
              "      <td>54.000000</td>\n",
              "      <td>1410.000000</td>\n",
              "    </tr>\n",
              "    <tr>\n",
              "      <th>max</th>\n",
              "      <td>413169.000000</td>\n",
              "      <td>4.000000</td>\n",
              "      <td>1.990000</td>\n",
              "      <td>100.000000</td>\n",
              "      <td>99.000000</td>\n",
              "      <td>27000.000000</td>\n",
              "    </tr>\n",
              "  </tbody>\n",
              "</table>\n",
              "</div>\n",
              "      <button class=\"colab-df-convert\" onclick=\"convertToInteractive('df-7394d805-ad24-4007-b475-c7e4f17a5fb5')\"\n",
              "              title=\"Convert this dataframe to an interactive table.\"\n",
              "              style=\"display:none;\">\n",
              "        \n",
              "  <svg xmlns=\"http://www.w3.org/2000/svg\" height=\"24px\"viewBox=\"0 0 24 24\"\n",
              "       width=\"24px\">\n",
              "    <path d=\"M0 0h24v24H0V0z\" fill=\"none\"/>\n",
              "    <path d=\"M18.56 5.44l.94 2.06.94-2.06 2.06-.94-2.06-.94-.94-2.06-.94 2.06-2.06.94zm-11 1L8.5 8.5l.94-2.06 2.06-.94-2.06-.94L8.5 2.5l-.94 2.06-2.06.94zm10 10l.94 2.06.94-2.06 2.06-.94-2.06-.94-.94-2.06-.94 2.06-2.06.94z\"/><path d=\"M17.41 7.96l-1.37-1.37c-.4-.4-.92-.59-1.43-.59-.52 0-1.04.2-1.43.59L10.3 9.45l-7.72 7.72c-.78.78-.78 2.05 0 2.83L4 21.41c.39.39.9.59 1.41.59.51 0 1.02-.2 1.41-.59l7.78-7.78 2.81-2.81c.8-.78.8-2.07 0-2.86zM5.41 20L4 18.59l7.72-7.72 1.47 1.35L5.41 20z\"/>\n",
              "  </svg>\n",
              "      </button>\n",
              "      \n",
              "  <style>\n",
              "    .colab-df-container {\n",
              "      display:flex;\n",
              "      flex-wrap:wrap;\n",
              "      gap: 12px;\n",
              "    }\n",
              "\n",
              "    .colab-df-convert {\n",
              "      background-color: #E8F0FE;\n",
              "      border: none;\n",
              "      border-radius: 50%;\n",
              "      cursor: pointer;\n",
              "      display: none;\n",
              "      fill: #1967D2;\n",
              "      height: 32px;\n",
              "      padding: 0 0 0 0;\n",
              "      width: 32px;\n",
              "    }\n",
              "\n",
              "    .colab-df-convert:hover {\n",
              "      background-color: #E2EBFA;\n",
              "      box-shadow: 0px 1px 2px rgba(60, 64, 67, 0.3), 0px 1px 3px 1px rgba(60, 64, 67, 0.15);\n",
              "      fill: #174EA6;\n",
              "    }\n",
              "\n",
              "    [theme=dark] .colab-df-convert {\n",
              "      background-color: #3B4455;\n",
              "      fill: #D2E3FC;\n",
              "    }\n",
              "\n",
              "    [theme=dark] .colab-df-convert:hover {\n",
              "      background-color: #434B5C;\n",
              "      box-shadow: 0px 1px 3px 1px rgba(0, 0, 0, 0.15);\n",
              "      filter: drop-shadow(0px 1px 2px rgba(0, 0, 0, 0.3));\n",
              "      fill: #FFFFFF;\n",
              "    }\n",
              "  </style>\n",
              "\n",
              "      <script>\n",
              "        const buttonEl =\n",
              "          document.querySelector('#df-7394d805-ad24-4007-b475-c7e4f17a5fb5 button.colab-df-convert');\n",
              "        buttonEl.style.display =\n",
              "          google.colab.kernel.accessAllowed ? 'block' : 'none';\n",
              "\n",
              "        async function convertToInteractive(key) {\n",
              "          const element = document.querySelector('#df-7394d805-ad24-4007-b475-c7e4f17a5fb5');\n",
              "          const dataTable =\n",
              "            await google.colab.kernel.invokeFunction('convertToInteractive',\n",
              "                                                     [key], {});\n",
              "          if (!dataTable) return;\n",
              "\n",
              "          const docLinkHtml = 'Like what you see? Visit the ' +\n",
              "            '<a target=\"_blank\" href=https://colab.research.google.com/notebooks/data_table.ipynb>data table notebook</a>'\n",
              "            + ' to learn more about interactive tables.';\n",
              "          element.innerHTML = '';\n",
              "          dataTable['output_type'] = 'display_data';\n",
              "          await google.colab.output.renderOutput(dataTable, element);\n",
              "          const docLink = document.createElement('div');\n",
              "          docLink.innerHTML = docLinkHtml;\n",
              "          element.appendChild(docLink);\n",
              "        }\n",
              "      </script>\n",
              "    </div>\n",
              "  </div>\n",
              "  "
            ]
          },
          "metadata": {},
          "execution_count": 14
        }
      ],
      "source": [
        "contracts.describe()"
      ]
    },
    {
      "cell_type": "markdown",
      "metadata": {
        "id": "qSOaFJ50xiBN"
      },
      "source": [
        "Continous variables modified as levels (categorized) in R code."
      ]
    },
    {
      "cell_type": "code",
      "execution_count": null,
      "metadata": {
        "id": "fITi9dxd7JMb",
        "colab": {
          "base_uri": "https://localhost:8080/"
        },
        "outputId": "45b65124-fb18-4503-a532-925b59901a61"
      },
      "outputs": [
        {
          "output_type": "execute_result",
          "data": {
            "text/plain": [
              "PolicyID     0\n",
              "ClaimNb      0\n",
              "Exposure     0\n",
              "Power        0\n",
              "CarAge       0\n",
              "DriverAge    0\n",
              "Brand        0\n",
              "Gas          0\n",
              "Region       0\n",
              "Density      0\n",
              "dtype: int64"
            ]
          },
          "metadata": {},
          "execution_count": 15
        }
      ],
      "source": [
        "contracts.isnull().sum()             # no null values"
      ]
    },
    {
      "cell_type": "code",
      "execution_count": null,
      "metadata": {
        "id": "ZfV2NLQZzVrF",
        "colab": {
          "base_uri": "https://localhost:8080/"
        },
        "outputId": "e2dd8c79-d479-4f03-d316-74b801a8f857"
      },
      "outputs": [
        {
          "output_type": "execute_result",
          "data": {
            "text/plain": [
              "[(42.0, 74.0], (26.0, 42.0], (22.0, 26.0], (17.0, 22.0], (74.0, inf]]\n",
              "Categories (5, interval[float64, right]): [(17.0, 22.0] < (22.0, 26.0] < (26.0, 42.0] <\n",
              "                                           (42.0, 74.0] < (74.0, inf]]"
            ]
          },
          "metadata": {},
          "execution_count": 16
        }
      ],
      "source": [
        "contracts.DriverAge = pd.cut(contracts.DriverAge , bins=[17,22,26,42,74,np.inf],labels =None , retbins = None , duplicates = 'raise' , ordered=True , include_lowest=False)\n",
        "\n",
        "contracts.DriverAge.unique()"
      ]
    },
    {
      "cell_type": "code",
      "execution_count": null,
      "metadata": {
        "id": "NT0kXnWHuiIu",
        "colab": {
          "base_uri": "https://localhost:8080/"
        },
        "outputId": "e4bc692e-f398-4a60-9747-1e958a297245"
      },
      "outputs": [
        {
          "output_type": "execute_result",
          "data": {
            "text/plain": [
              "CategoricalDtype(categories=[(17.0, 22.0], (22.0, 26.0], (26.0, 42.0], (42.0, 74.0], (74.0, inf]], ordered=True)"
            ]
          },
          "metadata": {},
          "execution_count": 17
        }
      ],
      "source": [
        "contracts.DriverAge.dtype"
      ]
    },
    {
      "cell_type": "code",
      "execution_count": null,
      "metadata": {
        "id": "KjPfdSr5NLXu",
        "colab": {
          "base_uri": "https://localhost:8080/"
        },
        "outputId": "63b4034a-3c18-406c-c37c-c90b8f9fcbb7"
      },
      "outputs": [
        {
          "output_type": "execute_result",
          "data": {
            "text/plain": [
              "[(-0.001, 15.0], (15.0, inf]]\n",
              "Categories (2, interval[float64, right]): [(-0.001, 15.0] < (15.0, inf]]"
            ]
          },
          "metadata": {},
          "execution_count": 18
        }
      ],
      "source": [
        "contracts.CarAge = pd.cut(contracts.CarAge , bins = [0,15,np.inf] ,labels =None , retbins = None , duplicates = 'raise' , ordered=True , include_lowest=True)\n",
        "\n",
        "contracts.CarAge.unique()"
      ]
    },
    {
      "cell_type": "code",
      "execution_count": null,
      "metadata": {
        "id": "w64EZumaus8D",
        "colab": {
          "base_uri": "https://localhost:8080/"
        },
        "outputId": "5adb85a5-8edf-4aaf-de4a-0c22e42f3992"
      },
      "outputs": [
        {
          "output_type": "execute_result",
          "data": {
            "text/plain": [
              "CategoricalDtype(categories=[(-0.001, 15.0], (15.0, inf]], ordered=True)"
            ]
          },
          "metadata": {},
          "execution_count": 19
        }
      ],
      "source": [
        "contracts.CarAge.dtype"
      ]
    },
    {
      "cell_type": "code",
      "execution_count": null,
      "metadata": {
        "id": "6qqmcjAbNJk7",
        "colab": {
          "base_uri": "https://localhost:8080/"
        },
        "outputId": "d1583c20-8143-469b-d992-143641db4d93"
      },
      "outputs": [
        {
          "output_type": "execute_result",
          "data": {
            "text/plain": [
              "[(40.0, 200.0], (500.0, 4500.0], (4500.0, inf], (-0.001, 40.0], (200.0, 500.0]]\n",
              "Categories (5, interval[float64, right]): [(-0.001, 40.0] < (40.0, 200.0] < (200.0, 500.0] <\n",
              "                                           (500.0, 4500.0] < (4500.0, inf]]"
            ]
          },
          "metadata": {},
          "execution_count": 20
        }
      ],
      "source": [
        "contracts.Density = pd.cut(contracts.Density , bins=[0,40,200,500,4500,np.inf] ,labels =None , retbins = None , duplicates = 'raise' , ordered=True , include_lowest=True)\n",
        "\n",
        "contracts.Density.unique()"
      ]
    },
    {
      "cell_type": "code",
      "execution_count": null,
      "metadata": {
        "id": "1LE_OnoeQhRw"
      },
      "outputs": [],
      "source": [
        "# CONTRACTS.f$brandF <- factor(CONTRACTS.f$BRAND==\"F\",labels=c(\"other\",\"F\"))                              # R-code\n",
        "\n",
        "contracts['Brand'] = contracts['Brand'].replace(\"Japanese (except Nissan) or Korean\" , \"F\")\n",
        "contracts['Brand'] = contracts['Brand'].replace(\"Renault, Nissan or Citroen\" , \"other\")\n",
        "contracts['Brand'] = contracts['Brand'].replace(\"Opel, General Motors or Ford\" , \"other\")                     # Python Code\n",
        "contracts['Brand'] = contracts['Brand'].replace(\"Volkswagen, Audi, Skoda or Seat\" , \"other\")\n",
        "contracts['Brand'] = contracts['Brand'].replace(\"Mercedes, Chrysler or BMW\" , \"other\")\n",
        "contracts['Brand'] = contracts['Brand'].replace(\"Fiat\" , \"other\")\n",
        "contracts['Brand'] = contracts['Brand'].replace(\"other\" , \"other\")"
      ]
    },
    {
      "cell_type": "code",
      "execution_count": null,
      "metadata": {
        "id": "J_mCoe16IsKZ",
        "colab": {
          "base_uri": "https://localhost:8080/"
        },
        "outputId": "5d88634d-ab4c-403f-b105-93b426770e74"
      },
      "outputs": [
        {
          "output_type": "execute_result",
          "data": {
            "text/plain": [
              "array(['F', 'other'], dtype=object)"
            ]
          },
          "metadata": {},
          "execution_count": 22
        }
      ],
      "source": [
        "contracts.Brand.unique()"
      ]
    },
    {
      "cell_type": "code",
      "execution_count": null,
      "metadata": {
        "id": "3ugjHsVZC0Bz"
      },
      "outputs": [],
      "source": [
        "# R-Code\n",
        "# CONTRACTS.f$powerF <- factor(1*(CONTRACTS.f$POWER%in%letters[4:6]) + 2*(CONTRACTS.f$POWER%in%letters[7:8]) + labels=c(\"other\",\"DEF\",\"GH\"))\n",
        "\n",
        "contracts['Power'] = contracts['Power'].replace(\"d\" , \"def\")\n",
        "contracts['Power'] = contracts['Power'].replace(\"e\" , \"def\")\n",
        "contracts['Power'] = contracts['Power'].replace(\"f\" , \"def\")\n",
        "contracts['Power'] = contracts['Power'].replace(\"g\" , \"gh\")\n",
        "contracts['Power'] = contracts['Power'].replace(\"h\" , \"gh\")\n",
        "contracts['Power'] = contracts['Power'].replace(\"j\" , \"other\")                                # Python Code\n",
        "contracts['Power'] = contracts['Power'].replace(\"i\" , \"other\")\n",
        "contracts['Power'] = contracts['Power'].replace(\"k\" , \"other\")\n",
        "contracts['Power'] = contracts['Power'].replace(\"l\" , \"other\")\n",
        "contracts['Power'] = contracts['Power'].replace(\"m\" , \"other\")\n",
        "contracts['Power'] = contracts['Power'].replace(\"o\" , \"other\")\n",
        "contracts['Power'] = contracts['Power'].replace(\"n\" , \"other\")"
      ]
    },
    {
      "cell_type": "code",
      "execution_count": null,
      "metadata": {
        "id": "VfRWcVcnHfRL",
        "colab": {
          "base_uri": "https://localhost:8080/"
        },
        "outputId": "d3a351b9-4ef2-42d0-c5b4-e6fbd608f7e5"
      },
      "outputs": [
        {
          "output_type": "execute_result",
          "data": {
            "text/plain": [
              "array(['gh', 'def', 'other'], dtype=object)"
            ]
          },
          "metadata": {},
          "execution_count": 24
        }
      ],
      "source": [
        "contracts.Power.unique()"
      ]
    },
    {
      "cell_type": "code",
      "execution_count": null,
      "metadata": {
        "id": "n-DX6PIpO4GC",
        "colab": {
          "base_uri": "https://localhost:8080/"
        },
        "outputId": "c86c9f1f-9fe1-4396-93fa-3195d7dbf79b"
      },
      "outputs": [
        {
          "output_type": "execute_result",
          "data": {
            "text/plain": [
              "array(['F', 'other'], dtype=object)"
            ]
          },
          "metadata": {},
          "execution_count": 25
        }
      ],
      "source": [
        "contracts.Brand.unique()"
      ]
    },
    {
      "cell_type": "code",
      "execution_count": null,
      "metadata": {
        "id": "8tNyhNrcNN_x",
        "colab": {
          "base_uri": "https://localhost:8080/",
          "height": 206
        },
        "outputId": "c5241cf4-47b0-4d1a-c63d-413e69893dbb"
      },
      "outputs": [
        {
          "output_type": "execute_result",
          "data": {
            "text/plain": [
              "   PolicyID  ClaimNb  Exposure Power          CarAge     DriverAge Brand  \\\n",
              "0         1        0      0.09    gh  (-0.001, 15.0]  (42.0, 74.0]     F   \n",
              "1         2        0      0.84    gh  (-0.001, 15.0]  (42.0, 74.0]     F   \n",
              "2         3        0      0.52   def  (-0.001, 15.0]  (26.0, 42.0]     F   \n",
              "3         4        0      0.45   def  (-0.001, 15.0]  (26.0, 42.0]     F   \n",
              "4         5        0      0.15    gh  (-0.001, 15.0]  (26.0, 42.0]     F   \n",
              "\n",
              "       Gas              Region          Density  \n",
              "0   Diesel           Aquitaine    (40.0, 200.0]  \n",
              "1   Diesel           Aquitaine    (40.0, 200.0]  \n",
              "2  Regular  Nord-Pas-de-Calais  (500.0, 4500.0]  \n",
              "3  Regular  Nord-Pas-de-Calais  (500.0, 4500.0]  \n",
              "4   Diesel    Pays-de-la-Loire    (40.0, 200.0]  "
            ],
            "text/html": [
              "\n",
              "  <div id=\"df-8ea153ce-a846-4a88-a24f-0b5ee86ef81d\">\n",
              "    <div class=\"colab-df-container\">\n",
              "      <div>\n",
              "<style scoped>\n",
              "    .dataframe tbody tr th:only-of-type {\n",
              "        vertical-align: middle;\n",
              "    }\n",
              "\n",
              "    .dataframe tbody tr th {\n",
              "        vertical-align: top;\n",
              "    }\n",
              "\n",
              "    .dataframe thead th {\n",
              "        text-align: right;\n",
              "    }\n",
              "</style>\n",
              "<table border=\"1\" class=\"dataframe\">\n",
              "  <thead>\n",
              "    <tr style=\"text-align: right;\">\n",
              "      <th></th>\n",
              "      <th>PolicyID</th>\n",
              "      <th>ClaimNb</th>\n",
              "      <th>Exposure</th>\n",
              "      <th>Power</th>\n",
              "      <th>CarAge</th>\n",
              "      <th>DriverAge</th>\n",
              "      <th>Brand</th>\n",
              "      <th>Gas</th>\n",
              "      <th>Region</th>\n",
              "      <th>Density</th>\n",
              "    </tr>\n",
              "  </thead>\n",
              "  <tbody>\n",
              "    <tr>\n",
              "      <th>0</th>\n",
              "      <td>1</td>\n",
              "      <td>0</td>\n",
              "      <td>0.09</td>\n",
              "      <td>gh</td>\n",
              "      <td>(-0.001, 15.0]</td>\n",
              "      <td>(42.0, 74.0]</td>\n",
              "      <td>F</td>\n",
              "      <td>Diesel</td>\n",
              "      <td>Aquitaine</td>\n",
              "      <td>(40.0, 200.0]</td>\n",
              "    </tr>\n",
              "    <tr>\n",
              "      <th>1</th>\n",
              "      <td>2</td>\n",
              "      <td>0</td>\n",
              "      <td>0.84</td>\n",
              "      <td>gh</td>\n",
              "      <td>(-0.001, 15.0]</td>\n",
              "      <td>(42.0, 74.0]</td>\n",
              "      <td>F</td>\n",
              "      <td>Diesel</td>\n",
              "      <td>Aquitaine</td>\n",
              "      <td>(40.0, 200.0]</td>\n",
              "    </tr>\n",
              "    <tr>\n",
              "      <th>2</th>\n",
              "      <td>3</td>\n",
              "      <td>0</td>\n",
              "      <td>0.52</td>\n",
              "      <td>def</td>\n",
              "      <td>(-0.001, 15.0]</td>\n",
              "      <td>(26.0, 42.0]</td>\n",
              "      <td>F</td>\n",
              "      <td>Regular</td>\n",
              "      <td>Nord-Pas-de-Calais</td>\n",
              "      <td>(500.0, 4500.0]</td>\n",
              "    </tr>\n",
              "    <tr>\n",
              "      <th>3</th>\n",
              "      <td>4</td>\n",
              "      <td>0</td>\n",
              "      <td>0.45</td>\n",
              "      <td>def</td>\n",
              "      <td>(-0.001, 15.0]</td>\n",
              "      <td>(26.0, 42.0]</td>\n",
              "      <td>F</td>\n",
              "      <td>Regular</td>\n",
              "      <td>Nord-Pas-de-Calais</td>\n",
              "      <td>(500.0, 4500.0]</td>\n",
              "    </tr>\n",
              "    <tr>\n",
              "      <th>4</th>\n",
              "      <td>5</td>\n",
              "      <td>0</td>\n",
              "      <td>0.15</td>\n",
              "      <td>gh</td>\n",
              "      <td>(-0.001, 15.0]</td>\n",
              "      <td>(26.0, 42.0]</td>\n",
              "      <td>F</td>\n",
              "      <td>Diesel</td>\n",
              "      <td>Pays-de-la-Loire</td>\n",
              "      <td>(40.0, 200.0]</td>\n",
              "    </tr>\n",
              "  </tbody>\n",
              "</table>\n",
              "</div>\n",
              "      <button class=\"colab-df-convert\" onclick=\"convertToInteractive('df-8ea153ce-a846-4a88-a24f-0b5ee86ef81d')\"\n",
              "              title=\"Convert this dataframe to an interactive table.\"\n",
              "              style=\"display:none;\">\n",
              "        \n",
              "  <svg xmlns=\"http://www.w3.org/2000/svg\" height=\"24px\"viewBox=\"0 0 24 24\"\n",
              "       width=\"24px\">\n",
              "    <path d=\"M0 0h24v24H0V0z\" fill=\"none\"/>\n",
              "    <path d=\"M18.56 5.44l.94 2.06.94-2.06 2.06-.94-2.06-.94-.94-2.06-.94 2.06-2.06.94zm-11 1L8.5 8.5l.94-2.06 2.06-.94-2.06-.94L8.5 2.5l-.94 2.06-2.06.94zm10 10l.94 2.06.94-2.06 2.06-.94-2.06-.94-.94-2.06-.94 2.06-2.06.94z\"/><path d=\"M17.41 7.96l-1.37-1.37c-.4-.4-.92-.59-1.43-.59-.52 0-1.04.2-1.43.59L10.3 9.45l-7.72 7.72c-.78.78-.78 2.05 0 2.83L4 21.41c.39.39.9.59 1.41.59.51 0 1.02-.2 1.41-.59l7.78-7.78 2.81-2.81c.8-.78.8-2.07 0-2.86zM5.41 20L4 18.59l7.72-7.72 1.47 1.35L5.41 20z\"/>\n",
              "  </svg>\n",
              "      </button>\n",
              "      \n",
              "  <style>\n",
              "    .colab-df-container {\n",
              "      display:flex;\n",
              "      flex-wrap:wrap;\n",
              "      gap: 12px;\n",
              "    }\n",
              "\n",
              "    .colab-df-convert {\n",
              "      background-color: #E8F0FE;\n",
              "      border: none;\n",
              "      border-radius: 50%;\n",
              "      cursor: pointer;\n",
              "      display: none;\n",
              "      fill: #1967D2;\n",
              "      height: 32px;\n",
              "      padding: 0 0 0 0;\n",
              "      width: 32px;\n",
              "    }\n",
              "\n",
              "    .colab-df-convert:hover {\n",
              "      background-color: #E2EBFA;\n",
              "      box-shadow: 0px 1px 2px rgba(60, 64, 67, 0.3), 0px 1px 3px 1px rgba(60, 64, 67, 0.15);\n",
              "      fill: #174EA6;\n",
              "    }\n",
              "\n",
              "    [theme=dark] .colab-df-convert {\n",
              "      background-color: #3B4455;\n",
              "      fill: #D2E3FC;\n",
              "    }\n",
              "\n",
              "    [theme=dark] .colab-df-convert:hover {\n",
              "      background-color: #434B5C;\n",
              "      box-shadow: 0px 1px 3px 1px rgba(0, 0, 0, 0.15);\n",
              "      filter: drop-shadow(0px 1px 2px rgba(0, 0, 0, 0.3));\n",
              "      fill: #FFFFFF;\n",
              "    }\n",
              "  </style>\n",
              "\n",
              "      <script>\n",
              "        const buttonEl =\n",
              "          document.querySelector('#df-8ea153ce-a846-4a88-a24f-0b5ee86ef81d button.colab-df-convert');\n",
              "        buttonEl.style.display =\n",
              "          google.colab.kernel.accessAllowed ? 'block' : 'none';\n",
              "\n",
              "        async function convertToInteractive(key) {\n",
              "          const element = document.querySelector('#df-8ea153ce-a846-4a88-a24f-0b5ee86ef81d');\n",
              "          const dataTable =\n",
              "            await google.colab.kernel.invokeFunction('convertToInteractive',\n",
              "                                                     [key], {});\n",
              "          if (!dataTable) return;\n",
              "\n",
              "          const docLinkHtml = 'Like what you see? Visit the ' +\n",
              "            '<a target=\"_blank\" href=https://colab.research.google.com/notebooks/data_table.ipynb>data table notebook</a>'\n",
              "            + ' to learn more about interactive tables.';\n",
              "          element.innerHTML = '';\n",
              "          dataTable['output_type'] = 'display_data';\n",
              "          await google.colab.output.renderOutput(dataTable, element);\n",
              "          const docLink = document.createElement('div');\n",
              "          docLink.innerHTML = docLinkHtml;\n",
              "          element.appendChild(docLink);\n",
              "        }\n",
              "      </script>\n",
              "    </div>\n",
              "  </div>\n",
              "  "
            ]
          },
          "metadata": {},
          "execution_count": 26
        }
      ],
      "source": [
        "contracts.head()"
      ]
    },
    {
      "cell_type": "code",
      "execution_count": null,
      "metadata": {
        "id": "Q4aj5CoHNVT1"
      },
      "outputs": [],
      "source": [
        "dummies = pd.get_dummies(contracts[\"Power\"], prefix=\"Power\")"
      ]
    },
    {
      "cell_type": "code",
      "execution_count": null,
      "metadata": {
        "id": "Zhp-AUzBNfG4"
      },
      "outputs": [],
      "source": [
        "contracts = contracts.join(dummies)"
      ]
    },
    {
      "cell_type": "code",
      "execution_count": null,
      "metadata": {
        "id": "emDQryT7PCQS"
      },
      "outputs": [],
      "source": [
        "dummies = pd.get_dummies(contracts[\"Brand\"], prefix=\"Brand\")"
      ]
    },
    {
      "cell_type": "code",
      "execution_count": null,
      "metadata": {
        "id": "nCoM3ccYPIoQ"
      },
      "outputs": [],
      "source": [
        "contracts = contracts.join(dummies)"
      ]
    },
    {
      "cell_type": "markdown",
      "metadata": {
        "id": "gEJIlLyMgddo"
      },
      "source": [
        "\n",
        "\n",
        "### 14.4.1 Negative Binomial Regression.\n",
        "\n",
        "\n"
      ]
    },
    {
      "cell_type": "code",
      "execution_count": null,
      "metadata": {
        "id": "lZSjtittglAd"
      },
      "outputs": [],
      "source": [
        "# Using GLM \n",
        "from statsmodels.formula.api import glm\n",
        "form = 'ClaimNb ~ DriverAge + CarAge + Density + Brand_F + Power_def + Power_gh + Gas'                \n",
        "regnb2_glm = glm(formula = form, data = contracts ,offset = np.log(contracts.Exposure), family = sm.families.NegativeBinomial()).fit()"
      ]
    },
    {
      "cell_type": "code",
      "execution_count": null,
      "metadata": {
        "colab": {
          "base_uri": "https://localhost:8080/"
        },
        "id": "0x9K8PKfXXUb",
        "outputId": "f0e43e22-3e25-4207-89aa-5e8479d9379a"
      },
      "outputs": [
        {
          "output_type": "stream",
          "name": "stdout",
          "text": [
            "                                 Results: Generalized linear model\n",
            "===================================================================================================\n",
            "Model:                         GLM                         AIC:                       134745.8615  \n",
            "Link Function:                 log                         BIC:                       -5251527.2116\n",
            "Dependent Variable:            ClaimNb                     Log-Likelihood:            -67359.      \n",
            "Date:                          2022-04-08 04:11            LL-Null:                   -68921.      \n",
            "No. Observations:              413169                      Deviance:                  91233.       \n",
            "Df Model:                      13                          Pearson chi2:              7.00e+05     \n",
            "Df Residuals:                  413155                      Scale:                     1.0000       \n",
            "Method:                        IRLS                                                                \n",
            "---------------------------------------------------------------------------------------------------\n",
            "                                                    Coef.  Std.Err.    z     P>|z|   [0.025  0.975]\n",
            "---------------------------------------------------------------------------------------------------\n",
            "Intercept                                          -1.6569   0.0483 -34.3150 0.0000 -1.7516 -1.5623\n",
            "DriverAge[T.Interval(22.0, 26.0, closed='right')]  -0.6285   0.0481 -13.0780 0.0000 -0.7226 -0.5343\n",
            "DriverAge[T.Interval(26.0, 42.0, closed='right')]  -1.0988   0.0382 -28.7506 0.0000 -1.1737 -1.0239\n",
            "DriverAge[T.Interval(42.0, 74.0, closed='right')]  -1.0953   0.0374 -29.3158 0.0000 -1.1686 -1.0221\n",
            "DriverAge[T.Interval(74.0, inf, closed='right')]   -1.1211   0.0538 -20.8444 0.0000 -1.2265 -1.0157\n",
            "CarAge[T.Interval(15.0, inf, closed='right')]      -0.2491   0.0315  -7.9140 0.0000 -0.3108 -0.1874\n",
            "Density[T.Interval(40.0, 200.0, closed='right')]    0.1836   0.0273   6.7171 0.0000  0.1300  0.2371\n",
            "Density[T.Interval(200.0, 500.0, closed='right')]   0.3167   0.0304  10.4318 0.0000  0.2572  0.3762\n",
            "Density[T.Interval(500.0, 4500.0, closed='right')]  0.5347   0.0267  20.0573 0.0000  0.4825  0.5870\n",
            "Density[T.Interval(4500.0, inf, closed='right')]    0.6693   0.0367  18.2166 0.0000  0.5973  0.7413\n",
            "Gas[T.Regular]                                     -0.1955   0.0166 -11.7550 0.0000 -0.2281 -0.1629\n",
            "Brand_F                                            -0.1918   0.0253  -7.5809 0.0000 -0.2414 -0.1422\n",
            "Power_def                                          -0.1778   0.0250  -7.1241 0.0000 -0.2267 -0.1289\n",
            "Power_gh                                           -0.1532   0.0271  -5.6457 0.0000 -0.2064 -0.1000\n",
            "===================================================================================================\n",
            "\n"
          ]
        }
      ],
      "source": [
        "print(regnb2_glm.summary2())"
      ]
    },
    {
      "cell_type": "code",
      "execution_count": null,
      "metadata": {
        "colab": {
          "base_uri": "https://localhost:8080/"
        },
        "id": "vuXOStaMDr4O",
        "outputId": "9b097942-a98b-4562-b5a7-da6420368fc8"
      },
      "outputs": [
        {
          "name": "stdout",
          "output_type": "stream",
          "text": [
            "the over dispersion in the model is : 1.6933740169931542\n"
          ]
        }
      ],
      "source": [
        "print(\"the over dispersion in the model is :\",(regnb2_glm.pearson_chi2 / regnb2_glm.df_resid))"
      ]
    },
    {
      "cell_type": "code",
      "execution_count": null,
      "metadata": {
        "colab": {
          "base_uri": "https://localhost:8080/"
        },
        "id": "eJrtN3VeEhve",
        "outputId": "9c081a0d-be14-48e9-b17f-90785f1adeb2"
      },
      "outputs": [
        {
          "name": "stdout",
          "output_type": "stream",
          "text": [
            "the residual deviance of the model is : 413155\n"
          ]
        }
      ],
      "source": [
        "print(\"the residual deviance of the model is :\",regnb2_glm.df_resid)"
      ]
    },
    {
      "cell_type": "code",
      "execution_count": null,
      "metadata": {
        "colab": {
          "base_uri": "https://localhost:8080/"
        },
        "id": "qE-XujqZOi_m",
        "outputId": "dccfd912-3fc7-4181-8c69-8973ea28da2e"
      },
      "outputs": [
        {
          "name": "stdout",
          "output_type": "stream",
          "text": [
            "the degrees of freedom of the model is : 13\n"
          ]
        }
      ],
      "source": [
        "print(\"the degrees of freedom of the model is :\",regnb2_glm.df_model)"
      ]
    }
  ],
  "metadata": {
    "colab": {
      "collapsed_sections": [
        "KKOkr0sIgms4"
      ],
      "name": "project1-negative binomial_Python.ipynb",
      "provenance": []
    },
    "kernelspec": {
      "display_name": "Python 3",
      "name": "python3"
    },
    "language_info": {
      "name": "python"
    }
  },
  "nbformat": 4,
  "nbformat_minor": 0
}
