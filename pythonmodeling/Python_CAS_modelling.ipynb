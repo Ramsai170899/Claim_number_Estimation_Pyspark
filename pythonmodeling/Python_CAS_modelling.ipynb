{
 "cells": [
  {
   "cell_type": "markdown",
   "metadata": {
    "id": "iUkc6RDolgZG"
   },
   "source": [
    "## Estimation of count models- seriousInjuryCounts using NegativeBinomial Regression"
   ]
  },
  {
   "cell_type": "markdown",
   "metadata": {
    "id": "PbRrdJjcrodm"
   },
   "source": [
    "#### libraries and data loading"
   ]
  },
  {
   "cell_type": "code",
   "execution_count": 1,
   "metadata": {
    "id": "4AfYIECdpcs-"
   },
   "outputs": [],
   "source": [
    "#!pip install fast_ml\n",
    "# !pip install mlxtend\n",
    "import numpy as np\n",
    "import pandas as pd\n",
    "import random\n",
    "\n",
    "import matplotlib.pyplot as plt\n",
    "import seaborn as sns\n",
    "from patsy import dmatrices\n",
    "\n",
    "import statsmodels.api as sm\n",
    "from statsmodels.stats.outliers_influence import variance_inflation_factor\n",
    "\n",
    "from sklearn.metrics import mean_squared_error, mean_absolute_error,r2_score\n",
    "from sklearn.feature_selection import RFE\n",
    "from sklearn.linear_model import PoissonRegressor,LogisticRegression\n",
    "from sklearn.model_selection import train_test_split\n",
    "\n",
    "import warnings\n",
    "warnings.filterwarnings('ignore')\n",
    "pd.set_option(\"display.max_columns\",None)\n",
    "sns.set_theme()"
   ]
  },
  {
   "cell_type": "code",
   "execution_count": 2,
   "metadata": {
    "id": "HkaYjLd5unfI"
   },
   "outputs": [],
   "source": [
    "df = pd.read_csv('CASpreprocessed.csv')              \n",
    "df.drop('Unnamed: 0',axis =1, inplace=True)\n",
    "target = 'seriousInjuryCount'"
   ]
  },
  {
   "cell_type": "code",
   "execution_count": 3,
   "metadata": {
    "id": "U2dESj5Uregp"
   },
   "outputs": [
    {
     "data": {
      "text/html": [
       "<div>\n",
       "<style scoped>\n",
       "    .dataframe tbody tr th:only-of-type {\n",
       "        vertical-align: middle;\n",
       "    }\n",
       "\n",
       "    .dataframe tbody tr th {\n",
       "        vertical-align: top;\n",
       "    }\n",
       "\n",
       "    .dataframe thead th {\n",
       "        text-align: right;\n",
       "    }\n",
       "</style>\n",
       "<table border=\"1\" class=\"dataframe\">\n",
       "  <thead>\n",
       "    <tr style=\"text-align: right;\">\n",
       "      <th></th>\n",
       "      <th>X</th>\n",
       "      <th>Y</th>\n",
       "      <th>bicycle</th>\n",
       "      <th>bridge</th>\n",
       "      <th>bus</th>\n",
       "      <th>carStationWagon</th>\n",
       "      <th>cliffBank</th>\n",
       "      <th>crashDirectionDescription</th>\n",
       "      <th>crashFinancialYear</th>\n",
       "      <th>crashLocation1</th>\n",
       "      <th>crashLocation2</th>\n",
       "      <th>crashSeverity</th>\n",
       "      <th>crashSHDescription</th>\n",
       "      <th>crashYear</th>\n",
       "      <th>debris</th>\n",
       "      <th>directionRoleDescription</th>\n",
       "      <th>ditch</th>\n",
       "      <th>fatalCount</th>\n",
       "      <th>fence</th>\n",
       "      <th>flatHill</th>\n",
       "      <th>guardRail</th>\n",
       "      <th>houseOrBuilding</th>\n",
       "      <th>kerb</th>\n",
       "      <th>light</th>\n",
       "      <th>minorInjuryCount</th>\n",
       "      <th>moped</th>\n",
       "      <th>motorcycle</th>\n",
       "      <th>NumberOfLanes</th>\n",
       "      <th>objectThrownOrDropped</th>\n",
       "      <th>otherObject</th>\n",
       "      <th>otherVehicleType</th>\n",
       "      <th>overBank</th>\n",
       "      <th>parkedVehicle</th>\n",
       "      <th>phoneBoxEtc</th>\n",
       "      <th>postOrPole</th>\n",
       "      <th>region</th>\n",
       "      <th>roadCharacter</th>\n",
       "      <th>roadLane</th>\n",
       "      <th>roadSurface</th>\n",
       "      <th>roadworks</th>\n",
       "      <th>schoolBus</th>\n",
       "      <th>seriousInjuryCount</th>\n",
       "      <th>slipOrFlood</th>\n",
       "      <th>speedLimit</th>\n",
       "      <th>strayAnimal</th>\n",
       "      <th>streetLight</th>\n",
       "      <th>suv</th>\n",
       "      <th>taxi</th>\n",
       "      <th>tlaName</th>\n",
       "      <th>trafficControl</th>\n",
       "      <th>trafficIsland</th>\n",
       "      <th>trafficSign</th>\n",
       "      <th>train</th>\n",
       "      <th>tree</th>\n",
       "      <th>truck</th>\n",
       "      <th>unknownVehicleType</th>\n",
       "      <th>urban</th>\n",
       "      <th>vanOrUtility</th>\n",
       "      <th>vehicle</th>\n",
       "      <th>waterRiver</th>\n",
       "      <th>weatherA</th>\n",
       "    </tr>\n",
       "  </thead>\n",
       "  <tbody>\n",
       "    <tr>\n",
       "      <th>0</th>\n",
       "      <td>1772561.0</td>\n",
       "      <td>5896382.0</td>\n",
       "      <td>0.0</td>\n",
       "      <td>0.0</td>\n",
       "      <td>0.0</td>\n",
       "      <td>1.0</td>\n",
       "      <td>0.0</td>\n",
       "      <td>NaN</td>\n",
       "      <td>2007/2008</td>\n",
       "      <td>EAST ST</td>\n",
       "      <td>ELLIOT ST</td>\n",
       "      <td>Non-Injury Crash</td>\n",
       "      <td>No</td>\n",
       "      <td>2007</td>\n",
       "      <td>0.0</td>\n",
       "      <td>North</td>\n",
       "      <td>0.0</td>\n",
       "      <td>0.0</td>\n",
       "      <td>0.0</td>\n",
       "      <td>Flat</td>\n",
       "      <td>0.0</td>\n",
       "      <td>0.0</td>\n",
       "      <td>0.0</td>\n",
       "      <td>Dark</td>\n",
       "      <td>0.0</td>\n",
       "      <td>0.0</td>\n",
       "      <td>0.0</td>\n",
       "      <td>2.0</td>\n",
       "      <td>0.0</td>\n",
       "      <td>0.0</td>\n",
       "      <td>0.0</td>\n",
       "      <td>0.0</td>\n",
       "      <td>0.0</td>\n",
       "      <td>0.0</td>\n",
       "      <td>0.0</td>\n",
       "      <td>Auckland Region</td>\n",
       "      <td>Nil</td>\n",
       "      <td>2-way</td>\n",
       "      <td>Sealed</td>\n",
       "      <td>0.0</td>\n",
       "      <td>0.0</td>\n",
       "      <td>0.0</td>\n",
       "      <td>0.0</td>\n",
       "      <td>50.0</td>\n",
       "      <td>0.0</td>\n",
       "      <td>On</td>\n",
       "      <td>1.0</td>\n",
       "      <td>0.0</td>\n",
       "      <td>Auckland</td>\n",
       "      <td>Traffic Signals</td>\n",
       "      <td>0.0</td>\n",
       "      <td>0.0</td>\n",
       "      <td>0.0</td>\n",
       "      <td>0.0</td>\n",
       "      <td>0.0</td>\n",
       "      <td>0.0</td>\n",
       "      <td>Urban</td>\n",
       "      <td>0.0</td>\n",
       "      <td>0.0</td>\n",
       "      <td>0.0</td>\n",
       "      <td>Fine</td>\n",
       "    </tr>\n",
       "    <tr>\n",
       "      <th>1</th>\n",
       "      <td>1836757.0</td>\n",
       "      <td>5859311.0</td>\n",
       "      <td>0.0</td>\n",
       "      <td>0.0</td>\n",
       "      <td>0.0</td>\n",
       "      <td>2.0</td>\n",
       "      <td>0.0</td>\n",
       "      <td>NaN</td>\n",
       "      <td>2002/2003</td>\n",
       "      <td>SH 2</td>\n",
       "      <td>SH 26</td>\n",
       "      <td>Non-Injury Crash</td>\n",
       "      <td>Yes</td>\n",
       "      <td>2003</td>\n",
       "      <td>0.0</td>\n",
       "      <td>North</td>\n",
       "      <td>0.0</td>\n",
       "      <td>0.0</td>\n",
       "      <td>0.0</td>\n",
       "      <td>Flat</td>\n",
       "      <td>0.0</td>\n",
       "      <td>0.0</td>\n",
       "      <td>0.0</td>\n",
       "      <td>Dark</td>\n",
       "      <td>0.0</td>\n",
       "      <td>0.0</td>\n",
       "      <td>0.0</td>\n",
       "      <td>2.0</td>\n",
       "      <td>0.0</td>\n",
       "      <td>0.0</td>\n",
       "      <td>0.0</td>\n",
       "      <td>0.0</td>\n",
       "      <td>0.0</td>\n",
       "      <td>0.0</td>\n",
       "      <td>0.0</td>\n",
       "      <td>Waikato Region</td>\n",
       "      <td>Nil</td>\n",
       "      <td>2-way</td>\n",
       "      <td>Sealed</td>\n",
       "      <td>0.0</td>\n",
       "      <td>0.0</td>\n",
       "      <td>0.0</td>\n",
       "      <td>0.0</td>\n",
       "      <td>50.0</td>\n",
       "      <td>0.0</td>\n",
       "      <td>On</td>\n",
       "      <td>0.0</td>\n",
       "      <td>0.0</td>\n",
       "      <td>Hauraki District</td>\n",
       "      <td>Give way</td>\n",
       "      <td>0.0</td>\n",
       "      <td>0.0</td>\n",
       "      <td>0.0</td>\n",
       "      <td>0.0</td>\n",
       "      <td>0.0</td>\n",
       "      <td>0.0</td>\n",
       "      <td>Urban</td>\n",
       "      <td>0.0</td>\n",
       "      <td>0.0</td>\n",
       "      <td>0.0</td>\n",
       "      <td>Fine</td>\n",
       "    </tr>\n",
       "    <tr>\n",
       "      <th>2</th>\n",
       "      <td>1762088.0</td>\n",
       "      <td>5912507.0</td>\n",
       "      <td>0.0</td>\n",
       "      <td>0.0</td>\n",
       "      <td>0.0</td>\n",
       "      <td>1.0</td>\n",
       "      <td>0.0</td>\n",
       "      <td>West</td>\n",
       "      <td>2009/2010</td>\n",
       "      <td>CHURCH ST</td>\n",
       "      <td>HUGO JOHNSTON DRIVE</td>\n",
       "      <td>Non-Injury Crash</td>\n",
       "      <td>No</td>\n",
       "      <td>2010</td>\n",
       "      <td>0.0</td>\n",
       "      <td>East</td>\n",
       "      <td>0.0</td>\n",
       "      <td>0.0</td>\n",
       "      <td>0.0</td>\n",
       "      <td>Flat</td>\n",
       "      <td>0.0</td>\n",
       "      <td>0.0</td>\n",
       "      <td>0.0</td>\n",
       "      <td>Bright sun</td>\n",
       "      <td>0.0</td>\n",
       "      <td>0.0</td>\n",
       "      <td>0.0</td>\n",
       "      <td>2.0</td>\n",
       "      <td>0.0</td>\n",
       "      <td>0.0</td>\n",
       "      <td>0.0</td>\n",
       "      <td>0.0</td>\n",
       "      <td>0.0</td>\n",
       "      <td>0.0</td>\n",
       "      <td>0.0</td>\n",
       "      <td>Auckland Region</td>\n",
       "      <td>Nil</td>\n",
       "      <td>2-way</td>\n",
       "      <td>Sealed</td>\n",
       "      <td>0.0</td>\n",
       "      <td>0.0</td>\n",
       "      <td>0.0</td>\n",
       "      <td>0.0</td>\n",
       "      <td>50.0</td>\n",
       "      <td>0.0</td>\n",
       "      <td>Off</td>\n",
       "      <td>0.0</td>\n",
       "      <td>0.0</td>\n",
       "      <td>Auckland</td>\n",
       "      <td>Traffic Signals</td>\n",
       "      <td>0.0</td>\n",
       "      <td>0.0</td>\n",
       "      <td>0.0</td>\n",
       "      <td>0.0</td>\n",
       "      <td>0.0</td>\n",
       "      <td>0.0</td>\n",
       "      <td>Urban</td>\n",
       "      <td>1.0</td>\n",
       "      <td>0.0</td>\n",
       "      <td>0.0</td>\n",
       "      <td>Fine</td>\n",
       "    </tr>\n",
       "    <tr>\n",
       "      <th>3</th>\n",
       "      <td>1753522.0</td>\n",
       "      <td>5911939.0</td>\n",
       "      <td>0.0</td>\n",
       "      <td>0.0</td>\n",
       "      <td>0.0</td>\n",
       "      <td>2.0</td>\n",
       "      <td>0.0</td>\n",
       "      <td>NaN</td>\n",
       "      <td>2017/2018</td>\n",
       "      <td>THE AVENUE</td>\n",
       "      <td>ACCESSWAY</td>\n",
       "      <td>Minor Crash</td>\n",
       "      <td>No</td>\n",
       "      <td>2017</td>\n",
       "      <td>0.0</td>\n",
       "      <td>North</td>\n",
       "      <td>0.0</td>\n",
       "      <td>0.0</td>\n",
       "      <td>0.0</td>\n",
       "      <td>Hill Road</td>\n",
       "      <td>0.0</td>\n",
       "      <td>0.0</td>\n",
       "      <td>0.0</td>\n",
       "      <td>Overcast</td>\n",
       "      <td>1.0</td>\n",
       "      <td>0.0</td>\n",
       "      <td>0.0</td>\n",
       "      <td>2.0</td>\n",
       "      <td>0.0</td>\n",
       "      <td>0.0</td>\n",
       "      <td>0.0</td>\n",
       "      <td>0.0</td>\n",
       "      <td>0.0</td>\n",
       "      <td>0.0</td>\n",
       "      <td>0.0</td>\n",
       "      <td>Auckland Region</td>\n",
       "      <td>Nil</td>\n",
       "      <td>2-way</td>\n",
       "      <td>Sealed</td>\n",
       "      <td>0.0</td>\n",
       "      <td>0.0</td>\n",
       "      <td>0.0</td>\n",
       "      <td>0.0</td>\n",
       "      <td>50.0</td>\n",
       "      <td>0.0</td>\n",
       "      <td>NaN</td>\n",
       "      <td>0.0</td>\n",
       "      <td>0.0</td>\n",
       "      <td>Auckland</td>\n",
       "      <td>Nil</td>\n",
       "      <td>0.0</td>\n",
       "      <td>0.0</td>\n",
       "      <td>0.0</td>\n",
       "      <td>0.0</td>\n",
       "      <td>0.0</td>\n",
       "      <td>0.0</td>\n",
       "      <td>Urban</td>\n",
       "      <td>0.0</td>\n",
       "      <td>0.0</td>\n",
       "      <td>0.0</td>\n",
       "      <td>Light rain</td>\n",
       "    </tr>\n",
       "    <tr>\n",
       "      <th>4</th>\n",
       "      <td>1761364.0</td>\n",
       "      <td>5914259.0</td>\n",
       "      <td>0.0</td>\n",
       "      <td>0.0</td>\n",
       "      <td>0.0</td>\n",
       "      <td>2.0</td>\n",
       "      <td>0.0</td>\n",
       "      <td>NaN</td>\n",
       "      <td>2017/2018</td>\n",
       "      <td>PENROSE INT</td>\n",
       "      <td>GT SOUTH LINK</td>\n",
       "      <td>Non-Injury Crash</td>\n",
       "      <td>No</td>\n",
       "      <td>2018</td>\n",
       "      <td>0.0</td>\n",
       "      <td>North</td>\n",
       "      <td>0.0</td>\n",
       "      <td>0.0</td>\n",
       "      <td>0.0</td>\n",
       "      <td>Flat</td>\n",
       "      <td>0.0</td>\n",
       "      <td>0.0</td>\n",
       "      <td>0.0</td>\n",
       "      <td>Overcast</td>\n",
       "      <td>0.0</td>\n",
       "      <td>0.0</td>\n",
       "      <td>0.0</td>\n",
       "      <td>2.0</td>\n",
       "      <td>0.0</td>\n",
       "      <td>0.0</td>\n",
       "      <td>0.0</td>\n",
       "      <td>0.0</td>\n",
       "      <td>0.0</td>\n",
       "      <td>0.0</td>\n",
       "      <td>0.0</td>\n",
       "      <td>Auckland Region</td>\n",
       "      <td>Motorway ramp</td>\n",
       "      <td>1-way</td>\n",
       "      <td>Sealed</td>\n",
       "      <td>0.0</td>\n",
       "      <td>0.0</td>\n",
       "      <td>0.0</td>\n",
       "      <td>0.0</td>\n",
       "      <td>50.0</td>\n",
       "      <td>0.0</td>\n",
       "      <td>NaN</td>\n",
       "      <td>0.0</td>\n",
       "      <td>0.0</td>\n",
       "      <td>Auckland</td>\n",
       "      <td>Give way</td>\n",
       "      <td>0.0</td>\n",
       "      <td>0.0</td>\n",
       "      <td>0.0</td>\n",
       "      <td>0.0</td>\n",
       "      <td>0.0</td>\n",
       "      <td>0.0</td>\n",
       "      <td>Urban</td>\n",
       "      <td>0.0</td>\n",
       "      <td>0.0</td>\n",
       "      <td>0.0</td>\n",
       "      <td>Fine</td>\n",
       "    </tr>\n",
       "  </tbody>\n",
       "</table>\n",
       "</div>"
      ],
      "text/plain": [
       "           X          Y  bicycle  bridge  bus  carStationWagon  cliffBank  \\\n",
       "0  1772561.0  5896382.0      0.0     0.0  0.0              1.0        0.0   \n",
       "1  1836757.0  5859311.0      0.0     0.0  0.0              2.0        0.0   \n",
       "2  1762088.0  5912507.0      0.0     0.0  0.0              1.0        0.0   \n",
       "3  1753522.0  5911939.0      0.0     0.0  0.0              2.0        0.0   \n",
       "4  1761364.0  5914259.0      0.0     0.0  0.0              2.0        0.0   \n",
       "\n",
       "  crashDirectionDescription crashFinancialYear crashLocation1  \\\n",
       "0                       NaN          2007/2008        EAST ST   \n",
       "1                       NaN          2002/2003           SH 2   \n",
       "2                      West          2009/2010      CHURCH ST   \n",
       "3                       NaN          2017/2018     THE AVENUE   \n",
       "4                       NaN          2017/2018    PENROSE INT   \n",
       "\n",
       "        crashLocation2     crashSeverity crashSHDescription  crashYear  \\\n",
       "0            ELLIOT ST  Non-Injury Crash                 No       2007   \n",
       "1                SH 26  Non-Injury Crash                Yes       2003   \n",
       "2  HUGO JOHNSTON DRIVE  Non-Injury Crash                 No       2010   \n",
       "3            ACCESSWAY       Minor Crash                 No       2017   \n",
       "4        GT SOUTH LINK  Non-Injury Crash                 No       2018   \n",
       "\n",
       "   debris directionRoleDescription  ditch  fatalCount  fence   flatHill  \\\n",
       "0     0.0                    North    0.0         0.0    0.0       Flat   \n",
       "1     0.0                    North    0.0         0.0    0.0       Flat   \n",
       "2     0.0                     East    0.0         0.0    0.0       Flat   \n",
       "3     0.0                    North    0.0         0.0    0.0  Hill Road   \n",
       "4     0.0                    North    0.0         0.0    0.0       Flat   \n",
       "\n",
       "   guardRail  houseOrBuilding  kerb       light  minorInjuryCount  moped  \\\n",
       "0        0.0              0.0   0.0        Dark               0.0    0.0   \n",
       "1        0.0              0.0   0.0        Dark               0.0    0.0   \n",
       "2        0.0              0.0   0.0  Bright sun               0.0    0.0   \n",
       "3        0.0              0.0   0.0    Overcast               1.0    0.0   \n",
       "4        0.0              0.0   0.0    Overcast               0.0    0.0   \n",
       "\n",
       "   motorcycle  NumberOfLanes  objectThrownOrDropped  otherObject  \\\n",
       "0         0.0            2.0                    0.0          0.0   \n",
       "1         0.0            2.0                    0.0          0.0   \n",
       "2         0.0            2.0                    0.0          0.0   \n",
       "3         0.0            2.0                    0.0          0.0   \n",
       "4         0.0            2.0                    0.0          0.0   \n",
       "\n",
       "   otherVehicleType  overBank  parkedVehicle  phoneBoxEtc  postOrPole  \\\n",
       "0               0.0       0.0            0.0          0.0         0.0   \n",
       "1               0.0       0.0            0.0          0.0         0.0   \n",
       "2               0.0       0.0            0.0          0.0         0.0   \n",
       "3               0.0       0.0            0.0          0.0         0.0   \n",
       "4               0.0       0.0            0.0          0.0         0.0   \n",
       "\n",
       "            region  roadCharacter roadLane roadSurface  roadworks  schoolBus  \\\n",
       "0  Auckland Region            Nil    2-way      Sealed        0.0        0.0   \n",
       "1   Waikato Region            Nil    2-way      Sealed        0.0        0.0   \n",
       "2  Auckland Region            Nil    2-way      Sealed        0.0        0.0   \n",
       "3  Auckland Region            Nil    2-way      Sealed        0.0        0.0   \n",
       "4  Auckland Region  Motorway ramp    1-way      Sealed        0.0        0.0   \n",
       "\n",
       "   seriousInjuryCount  slipOrFlood  speedLimit  strayAnimal streetLight  suv  \\\n",
       "0                 0.0          0.0        50.0          0.0          On  1.0   \n",
       "1                 0.0          0.0        50.0          0.0          On  0.0   \n",
       "2                 0.0          0.0        50.0          0.0         Off  0.0   \n",
       "3                 0.0          0.0        50.0          0.0         NaN  0.0   \n",
       "4                 0.0          0.0        50.0          0.0         NaN  0.0   \n",
       "\n",
       "   taxi           tlaName   trafficControl  trafficIsland  trafficSign  train  \\\n",
       "0   0.0          Auckland  Traffic Signals            0.0          0.0    0.0   \n",
       "1   0.0  Hauraki District         Give way            0.0          0.0    0.0   \n",
       "2   0.0          Auckland  Traffic Signals            0.0          0.0    0.0   \n",
       "3   0.0          Auckland              Nil            0.0          0.0    0.0   \n",
       "4   0.0          Auckland         Give way            0.0          0.0    0.0   \n",
       "\n",
       "   tree  truck  unknownVehicleType  urban  vanOrUtility  vehicle  waterRiver  \\\n",
       "0   0.0    0.0                 0.0  Urban           0.0      0.0         0.0   \n",
       "1   0.0    0.0                 0.0  Urban           0.0      0.0         0.0   \n",
       "2   0.0    0.0                 0.0  Urban           1.0      0.0         0.0   \n",
       "3   0.0    0.0                 0.0  Urban           0.0      0.0         0.0   \n",
       "4   0.0    0.0                 0.0  Urban           0.0      0.0         0.0   \n",
       "\n",
       "     weatherA  \n",
       "0        Fine  \n",
       "1        Fine  \n",
       "2        Fine  \n",
       "3  Light rain  \n",
       "4        Fine  "
      ]
     },
     "execution_count": 3,
     "metadata": {},
     "output_type": "execute_result"
    }
   ],
   "source": [
    "df.head()"
   ]
  },
  {
   "cell_type": "code",
   "execution_count": 4,
   "metadata": {
    "id": "6z4OE0--owFf"
   },
   "outputs": [
    {
     "data": {
      "image/png": "[encoded data removed]",
      "text/plain": [
       "<Figure size 720x360 with 1 Axes>"
      ]
     },
     "metadata": {},
     "output_type": "display_data"
    }
   ],
   "source": [
    "plt.figure(figsize=(10,5))\n",
    "plt.xlabel('seriousInjuryCount')\n",
    "plt.ylabel('Density')\n",
    "sns.histplot(df['seriousInjuryCount'])\n",
    "plt.show()"
   ]
  },
  {
   "cell_type": "code",
   "execution_count": 5,
   "metadata": {
    "id": "ICU0OccTpsfz"
   },
   "outputs": [],
   "source": [
    "df['sc'] = df.apply(\n",
    "    lambda row: 5 if row['seriousInjuryCount'] >=5 else row['seriousInjuryCount'] ,\n",
    "    axis=1\n",
    ")"
   ]
  },
  {
   "cell_type": "code",
   "execution_count": 6,
   "metadata": {
    "id": "54Kv-rkvqRxA"
   },
   "outputs": [
    {
     "data": {
      "text/plain": [
       "0.0    727346\n",
       "1.0     40180\n",
       "2.0      4334\n",
       "3.0       863\n",
       "4.0       258\n",
       "5.0       126\n",
       "Name: sc, dtype: int64"
      ]
     },
     "execution_count": 6,
     "metadata": {},
     "output_type": "execute_result"
    }
   ],
   "source": [
    "df.sc.value_counts()"
   ]
  },
  {
   "cell_type": "code",
   "execution_count": 7,
   "metadata": {
    "id": "557yVzrIqm-6"
   },
   "outputs": [
    {
     "data": {
      "text/plain": [
       "(773107, 62)"
      ]
     },
     "execution_count": 7,
     "metadata": {},
     "output_type": "execute_result"
    }
   ],
   "source": [
    "df.shape"
   ]
  },
  {
   "cell_type": "code",
   "execution_count": 8,
   "metadata": {
    "id": "nkAdRzh_qvxq"
   },
   "outputs": [
    {
     "data": {
      "text/plain": [
       "crashDirectionDescription    37.636964\n",
       "crashLocation2                0.115379\n",
       "directionRoleDescription      0.403566\n",
       "flatHill                      0.733275\n",
       "roadLane                      0.064027\n",
       "roadSurface                   0.118224\n",
       "streetLight                  38.163411\n",
       "weatherA                      1.710242\n",
       "dtype: float64"
      ]
     },
     "execution_count": 8,
     "metadata": {},
     "output_type": "execute_result"
    }
   ],
   "source": [
    "null_columns = df.columns[df.isnull().any()]\n",
    "(df[null_columns].isnull().sum()/len(df))*100"
   ]
  },
  {
   "cell_type": "markdown",
   "metadata": {
    "id": "hrXfXm2NrGfJ"
   },
   "source": [
    "#### functions"
   ]
  },
  {
   "cell_type": "code",
   "execution_count": 9,
   "metadata": {
    "id": "ZKSLFtKNrJct"
   },
   "outputs": [],
   "source": [
    "def multicollinearity_assumption(model, features, label, feature_names=None):        \n",
    "    plt.figure(figsize = (10,8))\n",
    "    sns.heatmap(pd.DataFrame(features, columns=feature_names).corr(), annot=True)\n",
    "    plt.title('Correlation of Variables')\n",
    "    plt.show()\n",
    "        \n",
    "    print('Variance Inflation Factors (VIF)')\n",
    "    print('> 10: An indication that multicollinearity may be present')\n",
    "    print('> 100: Certain multicollinearity among the variables')\n",
    "    print('-------------------------------------')\n",
    "       \n",
    "    VIF = [variance_inflation_factor(features, i) for i in range(features.shape[1])]\n",
    "    for idx, vif in enumerate(VIF):\n",
    "        print('{0}: {1}'.format(feature_names[idx], vif))\n",
    "        \n",
    "    possible_multicollinearity = sum([1 for vif in VIF if vif > 10])\n",
    "    definite_multicollinearity = sum([1 for vif in VIF if vif > 100])\n",
    "    print()\n",
    "    print('{0} cases of possible multicollinearity'.format(possible_multicollinearity))\n",
    "    print('{0} cases of definite multicollinearity'.format(definite_multicollinearity))\n",
    "    print()\n",
    "\n",
    "    if definite_multicollinearity == 0:\n",
    "        if possible_multicollinearity == 0:\n",
    "            print('Assumption satisfied')\n",
    "        else:\n",
    "            print('Assumption possibly satisfied')\n",
    "\n",
    "    else:\n",
    "        print('Assumption not satisfied')\n",
    "        print()\n",
    "        print('Coefficient interpretability will be problematic')\n",
    "        print('Consider removing variables with a high Variance Inflation Factor (VIF)')"
   ]
  },
  {
   "cell_type": "code",
   "execution_count": 10,
   "metadata": {
    "id": "om6DgzVDrRp8"
   },
   "outputs": [],
   "source": [
    "def calculate_residuals(model, features, label):\n",
    "    predictions = model.predict(features)\n",
    "    df_results = pd.DataFrame({'Actual': label.squeeze(1), 'Predicted': predictions})\n",
    "    df_results['PredictedT'] = np.round(df_results['Predicted'])\n",
    "    df_results['Residuals'] = (df_results['Actual'] - df_results['Predicted'])\n",
    "        \n",
    "    return df_results"
   ]
  },
  {
   "cell_type": "code",
   "execution_count": 11,
   "metadata": {
    "id": "8SIuBiKQrT-7"
   },
   "outputs": [],
   "source": [
    "def homoscedasticity_assumption(model, features, label):     \n",
    "    df_results = calculate_residuals(model, features, label)\n",
    "\n",
    "    plt.subplots(figsize=(12, 6))\n",
    "    ax = plt.subplot(111)\n",
    "    plt.scatter(x=df_results.index, y=df_results.Residuals, alpha=0.5)\n",
    "    plt.plot(np.repeat(0, df_results.index.max()), color='darkorange', linestyle='--')\n",
    "    ax.spines['right'].set_visible(False)\n",
    "    ax.spines['top'].set_visible(False) \n",
    "    plt.title('Residuals')\n",
    "    plt.show()  "
   ]
  },
  {
   "cell_type": "code",
   "execution_count": 12,
   "metadata": {
    "id": "9aZ9ET-yrXDE"
   },
   "outputs": [],
   "source": [
    "def normal_errors_assumption(model, features, label):\n",
    "    df_results = calculate_residuals(model, features, label) \n",
    "    plt.subplots(figsize=(12, 6))\n",
    "    plt.title('Distribution of Residuals')\n",
    "    sns.distplot(df_results['Residuals'])\n",
    "    plt.show()"
   ]
  },
  {
   "cell_type": "code",
   "execution_count": 13,
   "metadata": {
    "id": "d6YxjVScrbtn"
   },
   "outputs": [],
   "source": [
    "def Feature_imp(Model,n,X,y):\n",
    "    model = Model\n",
    "    # create the RFE model and select attributes\n",
    "    rfe = RFE(model,n_features_to_select= n)              # Recursive feature elimination.\n",
    "    rfe = rfe.fit(X, y)\n",
    "    # summarize the selection of the attributes\n",
    "    return pd.DataFrame({'Decision':rfe.support_,'Ranking':rfe.ranking_,'Feature':X.columns})  "
   ]
  },
  {
   "cell_type": "markdown",
   "metadata": {
    "id": "41I4oDJjriKz"
   },
   "source": [
    "#### modelling"
   ]
  },
  {
   "cell_type": "code",
   "execution_count": 14,
   "metadata": {
    "id": "8HZ_eGbBrwYi"
   },
   "outputs": [
    {
     "data": {
      "text/plain": [
       "0.02193029519586978"
      ]
     },
     "execution_count": 14,
     "metadata": {},
     "output_type": "execute_result"
    }
   ],
   "source": [
    "df[target].var()-df[target].mean()"
   ]
  },
  {
   "cell_type": "code",
   "execution_count": 15,
   "metadata": {},
   "outputs": [
    {
     "data": {
      "text/plain": [
       "0.0    742171\n",
       "1.0     30685\n",
       "2.0       247\n",
       "3.0         4\n",
       "Name: tree, dtype: int64"
      ]
     },
     "execution_count": 15,
     "metadata": {},
     "output_type": "execute_result"
    }
   ],
   "source": [
    "df['tree'].value_counts()"
   ]
  },
  {
   "cell_type": "code",
   "execution_count": 16,
   "metadata": {
    "id": "rcSQAyZIr9mT"
   },
   "outputs": [],
   "source": [
    "# drop columns which depends on serious injury count or any injury count.\n",
    "\n",
    "formula = \"sc ~ roadCharacter+roadSurface+trafficSign+carStationWagon+cliffBank+debris+ditch+fence+guardRail+houseOrBuilding+motorcycle+NumberOfLanes+overBank+parkedVehicle+postOrPole+schoolBus+slipOrFlood+speedLimit+tree+urban+vanOrUtility+vehicle\"\n",
    "\n",
    "y, X = dmatrices(formula, df, return_type='dataframe')\n",
    "X.drop(\"Intercept\",axis=1,inplace=True)"
   ]
  },
  {
   "cell_type": "code",
   "execution_count": 17,
   "metadata": {},
   "outputs": [
    {
     "data": {
      "text/plain": [
       "Index(['roadCharacter[T.Motorway ramp]', 'roadCharacter[T.Nil]',\n",
       "       'roadCharacter[T.Overpass]', 'roadCharacter[T.Rail xing]',\n",
       "       'roadCharacter[T.Speed hump]', 'roadCharacter[T.Tram lines]',\n",
       "       'roadCharacter[T.Tunnel]', 'roadCharacter[T.Underpass]',\n",
       "       'roadSurface[T.Sealed]', 'roadSurface[T.Unsealed]', 'urban[T.Urban]',\n",
       "       'trafficSign', 'carStationWagon', 'cliffBank', 'debris', 'ditch',\n",
       "       'fence', 'guardRail', 'houseOrBuilding', 'motorcycle', 'NumberOfLanes',\n",
       "       'overBank', 'parkedVehicle', 'postOrPole', 'schoolBus', 'slipOrFlood',\n",
       "       'speedLimit', 'tree', 'vanOrUtility', 'vehicle'],\n",
       "      dtype='object')"
      ]
     },
     "execution_count": 17,
     "metadata": {},
     "output_type": "execute_result"
    }
   ],
   "source": [
    "X.columns"
   ]
  },
  {
   "cell_type": "code",
   "execution_count": 18,
   "metadata": {},
   "outputs": [
    {
     "data": {
      "text/plain": [
       "(roadCharacter[T.Motorway ramp]    772193\n",
       " roadCharacter[T.Nil]              772193\n",
       " roadCharacter[T.Overpass]         772193\n",
       " roadCharacter[T.Rail xing]        772193\n",
       " roadCharacter[T.Speed hump]       772193\n",
       " roadCharacter[T.Tram lines]       772193\n",
       " roadCharacter[T.Tunnel]           772193\n",
       " roadCharacter[T.Underpass]        772193\n",
       " roadSurface[T.Sealed]             772193\n",
       " roadSurface[T.Unsealed]           772193\n",
       " urban[T.Urban]                    772193\n",
       " trafficSign                       772193\n",
       " carStationWagon                   772193\n",
       " cliffBank                         772193\n",
       " debris                            772193\n",
       " ditch                             772193\n",
       " fence                             772193\n",
       " guardRail                         772193\n",
       " houseOrBuilding                   772193\n",
       " motorcycle                        772193\n",
       " NumberOfLanes                     772193\n",
       " overBank                          772193\n",
       " parkedVehicle                     772193\n",
       " postOrPole                        772193\n",
       " schoolBus                         772193\n",
       " slipOrFlood                       772193\n",
       " speedLimit                        772193\n",
       " tree                              772193\n",
       " vanOrUtility                      772193\n",
       " vehicle                           772193\n",
       " dtype: int64,\n",
       " 30)"
      ]
     },
     "execution_count": 18,
     "metadata": {},
     "output_type": "execute_result"
    }
   ],
   "source": [
    "X.count(), len(X.columns)"
   ]
  },
  {
   "cell_type": "code",
   "execution_count": 19,
   "metadata": {
    "id": "ozOdWYK5r9i8"
   },
   "outputs": [],
   "source": [
    "X_train, X_test, y_train, y_test = train_test_split(X, y, test_size=0.20, random_state=42)"
   ]
  },
  {
   "cell_type": "code",
   "execution_count": 20,
   "metadata": {},
   "outputs": [
    {
     "data": {
      "text/plain": [
       "((617754, 30), (154439, 30), (617754, 1), (154439, 1))"
      ]
     },
     "execution_count": 20,
     "metadata": {},
     "output_type": "execute_result"
    }
   ],
   "source": [
    "X_train.shape , X_test.shape , y_train.shape , y_test.shape"
   ]
  },
  {
   "cell_type": "code",
   "execution_count": 21,
   "metadata": {
    "id": "82F7J5jEr9gL"
   },
   "outputs": [],
   "source": [
    "Feature = Feature_imp(PoissonRegressor(),10,X_train,y_train)              # PoissonRegressor,  # DecisionTreeClassifier(), LogisticRegression()"
   ]
  },
  {
   "cell_type": "code",
   "execution_count": 22,
   "metadata": {
    "id": "BBY46Z8Gr9dV"
   },
   "outputs": [],
   "source": [
    "lis = Feature[Feature.Decision==True]"
   ]
  },
  {
   "cell_type": "code",
   "execution_count": 23,
   "metadata": {},
   "outputs": [
    {
     "data": {
      "text/plain": [
       "array(['roadCharacter[T.Motorway ramp]', 'carStationWagon', 'fence',\n",
       "       'guardRail', 'motorcycle', 'NumberOfLanes', 'parkedVehicle',\n",
       "       'postOrPole', 'speedLimit', 'tree'], dtype=object)"
      ]
     },
     "execution_count": 23,
     "metadata": {},
     "output_type": "execute_result"
    }
   ],
   "source": [
    "lis['Feature'].unique()"
   ]
  },
  {
   "cell_type": "code",
   "execution_count": 24,
   "metadata": {
    "id": "DY5XPqxpr9ad"
   },
   "outputs": [],
   "source": [
    "X_train_poi = X[lis['Feature'].unique()]\n",
    "y_train_poi = y"
   ]
  },
  {
   "cell_type": "code",
   "execution_count": 25,
   "metadata": {},
   "outputs": [
    {
     "data": {
      "text/plain": [
       "(pandas.core.frame.DataFrame, pandas.core.frame.DataFrame)"
      ]
     },
     "execution_count": 25,
     "metadata": {},
     "output_type": "execute_result"
    }
   ],
   "source": [
    "type(X_train_poi),type(y_train_poi)"
   ]
  },
  {
   "cell_type": "code",
   "execution_count": 26,
   "metadata": {},
   "outputs": [
    {
     "data": {
      "text/plain": [
       "(772193, 10)"
      ]
     },
     "execution_count": 26,
     "metadata": {},
     "output_type": "execute_result"
    }
   ],
   "source": [
    "X_train_poi.shape"
   ]
  },
  {
   "cell_type": "markdown",
   "metadata": {},
   "source": [
    "### Poisson fit for the selected columns"
   ]
  },
  {
   "cell_type": "code",
   "execution_count": 27,
   "metadata": {
    "id": "fLqZkIdrr9Xl"
   },
   "outputs": [
    {
     "name": "stdout",
     "output_type": "stream",
     "text": [
      "                 Generalized Linear Model Regression Results                  \n",
      "==============================================================================\n",
      "Dep. Variable:                     sc   No. Observations:               772193\n",
      "Model:                            GLM   Df Residuals:                   772183\n",
      "Model Family:                 Poisson   Df Model:                            9\n",
      "Link Function:                    Log   Scale:                          1.0000\n",
      "Method:                          IRLS   Log-Likelihood:            -1.9818e+05\n",
      "Date:                Sat, 23 Apr 2022   Deviance:                   3.0081e+05\n",
      "Time:                        20:13:57   Pearson chi2:                 1.92e+06\n",
      "No. Iterations:                     7   Pseudo R-squ. (CS):           0.007843\n",
      "Covariance Type:            nonrobust                                         \n",
      "==================================================================================================\n",
      "                                     coef    std err          z      P>|z|      [0.025      0.975]\n",
      "--------------------------------------------------------------------------------------------------\n",
      "roadCharacter[T.Motorway ramp]    -0.9883      0.059    -16.685      0.000      -1.104      -0.872\n",
      "carStationWagon                   -0.7121      0.006   -125.257      0.000      -0.723      -0.701\n",
      "fence                             -0.1114      0.014     -8.148      0.000      -0.138      -0.085\n",
      "guardRail                         -0.0862      0.025     -3.484      0.000      -0.135      -0.038\n",
      "motorcycle                         0.7405      0.009     79.888      0.000       0.722       0.759\n",
      "NumberOfLanes                     -0.6761      0.005   -130.980      0.000      -0.686      -0.666\n",
      "parkedVehicle                     -0.9239      0.021    -43.833      0.000      -0.965      -0.883\n",
      "postOrPole                        -0.0667      0.017     -3.865      0.000      -0.101      -0.033\n",
      "speedLimit                        -0.0053      0.000    -38.182      0.000      -0.006      -0.005\n",
      "tree                               0.3121      0.016     19.557      0.000       0.281       0.343\n",
      "==================================================================================================\n"
     ]
    }
   ],
   "source": [
    "model_poi = sm.GLM(y_train_poi, X_train_poi,family=sm.families.Poisson()).fit()\n",
    "print(model_poi.summary())"
   ]
  },
  {
   "cell_type": "code",
   "execution_count": 28,
   "metadata": {
    "id": "KC9lzJMbr9R-"
   },
   "outputs": [],
   "source": [
    "model_dispersion = model_poi.pearson_chi2/model_poi.df_model\n",
    "\n",
    "X_train_poi['Count'] = y_train_poi\n",
    "X_train_poi['Lambda'] = model_poi.mu\n",
    "\n",
    "X_train_poi['AUX_OLS'] = X_train_poi.apply(lambda x: ((x['Count'] - x['Lambda'])**2 - x['Lambda']) / x['Lambda'], axis=1)"
   ]
  },
  {
   "cell_type": "code",
   "execution_count": 29,
   "metadata": {},
   "outputs": [
    {
     "data": {
      "text/plain": [
       "213720.30613915666"
      ]
     },
     "execution_count": 29,
     "metadata": {},
     "output_type": "execute_result"
    }
   ],
   "source": [
    "model_dispersion                      # over dispersion ???"
   ]
  },
  {
   "cell_type": "code",
   "execution_count": 30,
   "metadata": {},
   "outputs": [
    {
     "data": {
      "text/plain": [
       "0         0.097518\n",
       "1         0.047842\n",
       "2         0.097518\n",
       "3         0.047842\n",
       "4         0.017807\n",
       "            ...   \n",
       "773102    0.261963\n",
       "773103    0.191740\n",
       "773104    0.036764\n",
       "773105    0.152744\n",
       "773106    0.012375\n",
       "Name: Lambda, Length: 772193, dtype: float64"
      ]
     },
     "execution_count": 30,
     "metadata": {},
     "output_type": "execute_result"
    }
   ],
   "source": [
    "X_train_poi['Lambda']          # endog variable made from poisson for OLS"
   ]
  },
  {
   "cell_type": "code",
   "execution_count": 31,
   "metadata": {
    "id": "-ZW5QRh4r9PI"
   },
   "outputs": [
    {
     "data": {
      "text/plain": [
       "0        -0.902482\n",
       "1        -0.952158\n",
       "2        -0.902482\n",
       "3        -0.952158\n",
       "4        -0.982193\n",
       "            ...   \n",
       "773102   -0.738037\n",
       "773103   -0.808260\n",
       "773104   -0.963236\n",
       "773105   -0.847256\n",
       "773106   -0.987625\n",
       "Name: AUX_OLS, Length: 772193, dtype: float64"
      ]
     },
     "execution_count": 31,
     "metadata": {},
     "output_type": "execute_result"
    }
   ],
   "source": [
    "X_train_poi['AUX_OLS']         # exog variable made from poisson for OLS"
   ]
  },
  {
   "cell_type": "markdown",
   "metadata": {},
   "source": [
    "### Parameter estimation from OLS\n",
    "\n",
    "pass on the endog and exog variables to OLS"
   ]
  },
  {
   "cell_type": "code",
   "execution_count": 32,
   "metadata": {
    "id": "KdkC8cPbs-tx"
   },
   "outputs": [
    {
     "name": "stdout",
     "output_type": "stream",
     "text": [
      "AUX_OLS    4.055845e-07\n",
      "dtype: float64\n",
      "\n",
      " AUX_OLS    0.520713\n",
      "dtype: float64\n"
     ]
    }
   ],
   "source": [
    "aux_olsr_results = sm.OLS(  X_train_poi['Lambda']  ,  X_train_poi['AUX_OLS']  ).fit()      # endog and exog to OLS\n",
    "\n",
    "print(aux_olsr_results.params),                # alpha \n",
    "print(\"\\n\",aux_olsr_results.tvalues)           # tvalue significance checking               "
   ]
  },
  {
   "cell_type": "markdown",
   "metadata": {},
   "source": [
    " tvalue should be greater than 1.644 but it is 0.520 therefore it is not significant."
   ]
  },
  {
   "cell_type": "code",
   "execution_count": 33,
   "metadata": {
    "id": "gJGJWunbs-lw"
   },
   "outputs": [],
   "source": [
    "X_train_nb = X_train[lis['Feature'].unique()]\n",
    "y_train_nb = y_train\n",
    "\n",
    "X_test_nb = X_test[lis['Feature'].unique()]\n",
    "y_test_nb = y_test"
   ]
  },
  {
   "cell_type": "markdown",
   "metadata": {
    "id": "0p47JvVaCO3R"
   },
   "source": [
    "### Negative Binomial fit for selected columns"
   ]
  },
  {
   "cell_type": "code",
   "execution_count": 34,
   "metadata": {
    "id": "wA-EceYUs-jD"
   },
   "outputs": [],
   "source": [
    "model_nb = sm.GLM(y_train_nb, X_train_nb,family=sm.families.NegativeBinomial(alpha= aux_olsr_results.params[0])).fit()"
   ]
  },
  {
   "cell_type": "code",
   "execution_count": 35,
   "metadata": {
    "id": "3T2OOxJJs-gc",
    "scrolled": false
   },
   "outputs": [
    {
     "name": "stdout",
     "output_type": "stream",
     "text": [
      "                 Generalized Linear Model Regression Results                  \n",
      "==============================================================================\n",
      "Dep. Variable:                     sc   No. Observations:               617754\n",
      "Model:                            GLM   Df Residuals:                   617744\n",
      "Model Family:        NegativeBinomial   Df Model:                            9\n",
      "Link Function:                    Log   Scale:                          1.0000\n",
      "Method:                          IRLS   Log-Likelihood:            -1.5825e+05\n",
      "Date:                Sat, 23 Apr 2022   Deviance:                   2.4023e+05\n",
      "Time:                        20:14:13   Pearson chi2:                 1.59e+06\n",
      "No. Iterations:                     9   Pseudo R-squ. (CS):           0.007422\n",
      "Covariance Type:            nonrobust                                         \n",
      "==================================================================================================\n",
      "                                     coef    std err          z      P>|z|      [0.025      0.975]\n",
      "--------------------------------------------------------------------------------------------------\n",
      "roadCharacter[T.Motorway ramp]    -0.9467      0.065    -14.557      0.000      -1.074      -0.819\n",
      "carStationWagon                   -0.7161      0.006   -112.451      0.000      -0.729      -0.704\n",
      "fence                             -0.1042      0.015     -6.828      0.000      -0.134      -0.074\n",
      "guardRail                         -0.0937      0.028     -3.387      0.001      -0.148      -0.039\n",
      "motorcycle                         0.7330      0.010     72.003      0.000       0.713       0.753\n",
      "NumberOfLanes                     -0.6723      0.006   -116.285      0.000      -0.684      -0.661\n",
      "parkedVehicle                     -0.9276      0.024    -39.219      0.000      -0.974      -0.881\n",
      "postOrPole                        -0.0666      0.019     -3.454      0.001      -0.104      -0.029\n",
      "speedLimit                        -0.0054      0.000    -34.767      0.000      -0.006      -0.005\n",
      "tree                               0.3285      0.018     18.542      0.000       0.294       0.363\n",
      "==================================================================================================\n"
     ]
    }
   ],
   "source": [
    "print(model_nb.summary())"
   ]
  },
  {
   "cell_type": "code",
   "execution_count": 36,
   "metadata": {
    "id": "p-elh-vLr9C1"
   },
   "outputs": [
    {
     "data": {
      "image/png": "[encoded data removed]",
      "text/plain": [
       "<Figure size 864x432 with 1 Axes>"
      ]
     },
     "metadata": {},
     "output_type": "display_data"
    }
   ],
   "source": [
    "normal_errors_assumption(model_nb,X_train_nb,y_train_nb)"
   ]
  },
  {
   "cell_type": "code",
   "execution_count": 37,
   "metadata": {
    "id": "_fPxqMrcr8_5"
   },
   "outputs": [
    {
     "data": {
      "image/png": "[encoded data removed]",
      "text/plain": [
       "<Figure size 720x576 with 2 Axes>"
      ]
     },
     "metadata": {},
     "output_type": "display_data"
    },
    {
     "name": "stdout",
     "output_type": "stream",
     "text": [
      "Variance Inflation Factors (VIF)\n",
      "> 10: An indication that multicollinearity may be present\n",
      "> 100: Certain multicollinearity among the variables\n",
      "-------------------------------------\n",
      "roadCharacter[T.Motorway ramp]: 1.0243653677542268\n",
      "carStationWagon: 3.6938227602705567\n",
      "fence: 1.1507605259571372\n",
      "guardRail: 1.070156059874413\n",
      "motorcycle: 1.0667230412764985\n",
      "NumberOfLanes: 5.494442814948659\n",
      "parkedVehicle: 1.1580049927208291\n",
      "postOrPole: 1.0588432624548496\n",
      "speedLimit: 5.019661497616941\n",
      "tree: 1.0659636438608207\n",
      "\n",
      "0 cases of possible multicollinearity\n",
      "0 cases of definite multicollinearity\n",
      "\n",
      "Assumption satisfied\n"
     ]
    }
   ],
   "source": [
    "multicollinearity_assumption(model_nb,X_train_nb,y_train_nb,X_train_nb.columns)"
   ]
  },
  {
   "cell_type": "code",
   "execution_count": 38,
   "metadata": {
    "id": "xNPGVXCJtwpS"
   },
   "outputs": [
    {
     "data": {
      "image/png": "[encoded data removed]",
      "text/plain": [
       "<Figure size 864x432 with 1 Axes>"
      ]
     },
     "metadata": {},
     "output_type": "display_data"
    }
   ],
   "source": [
    "homoscedasticity_assumption(model_nb,X_train_nb,y_train_nb)"
   ]
  },
  {
   "cell_type": "markdown",
   "metadata": {},
   "source": [
    "predictions made:"
   ]
  },
  {
   "cell_type": "code",
   "execution_count": 39,
   "metadata": {
    "id": "KThYziLYtwl4"
   },
   "outputs": [],
   "source": [
    "ypred_ntrain = model_nb.predict(X_train_nb)\n",
    "ypred_ntest = model_nb.predict(X_test_nb)"
   ]
  },
  {
   "cell_type": "markdown",
   "metadata": {},
   "source": [
    "scores:"
   ]
  },
  {
   "cell_type": "code",
   "execution_count": 40,
   "metadata": {},
   "outputs": [
    {
     "data": {
      "text/plain": [
       "0.035019753676175464"
      ]
     },
     "execution_count": 40,
     "metadata": {},
     "output_type": "execute_result"
    }
   ],
   "source": [
    "from sklearn.metrics import mean_squared_log_error\n",
    "mean_squared_log_error(y_test_nb,ypred_ntest)"
   ]
  },
  {
   "cell_type": "code",
   "execution_count": 41,
   "metadata": {},
   "outputs": [
    {
     "name": "stdout",
     "output_type": "stream",
     "text": [
      "RMSE Of Negative Binomial for train: 0.301318862711137\n",
      "MAE Of Negative Binomial for train: 0.1312075745916933\n"
     ]
    }
   ],
   "source": [
    "RMSE_ntrain = np.sqrt(mean_squared_error(y_train_nb,ypred_ntrain))\n",
    "print(\"RMSE Of Negative Binomial for train:\",RMSE_ntrain)\n",
    "MAE_ntrain = mean_absolute_error(y_train_nb,ypred_ntrain)\n",
    "print(\"MAE Of Negative Binomial for train:\",MAE_ntrain)"
   ]
  },
  {
   "cell_type": "code",
   "execution_count": 42,
   "metadata": {
    "id": "juFUzu2stwjA"
   },
   "outputs": [
    {
     "name": "stdout",
     "output_type": "stream",
     "text": [
      "RMSE Of Negative Binomial for test: 0.30274932010265126\n",
      "MAE Of Negative Binomial for test: 0.13195964003357133\n"
     ]
    }
   ],
   "source": [
    "RMSE_ntest = np.sqrt(mean_squared_error(y_test_nb,ypred_ntest))\n",
    "print(\"RMSE Of Negative Binomial for test:\",RMSE_ntest)\n",
    "MAE_ntest = mean_absolute_error(y_test_nb,ypred_ntest)\n",
    "print(\"MAE Of Negative Binomial for test:\",MAE_ntest)"
   ]
  },
  {
   "cell_type": "code",
   "execution_count": 43,
   "metadata": {
    "id": "M6Nt8Z_HtwW9"
   },
   "outputs": [],
   "source": [
    "df_nb_Results = calculate_residuals(model_nb,X_test_nb,y_test_nb)"
   ]
  },
  {
   "cell_type": "code",
   "execution_count": 44,
   "metadata": {
    "id": "ku5uT36itwUE"
   },
   "outputs": [
    {
     "data": {
      "text/plain": [
       "0.0    145218\n",
       "1.0      8072\n",
       "2.0       891\n",
       "3.0       168\n",
       "4.0        54\n",
       "5.0        36\n",
       "Name: Actual, dtype: int64"
      ]
     },
     "execution_count": 44,
     "metadata": {},
     "output_type": "execute_result"
    }
   ],
   "source": [
    "df_nb_Results['Actual'].value_counts()"
   ]
  },
  {
   "cell_type": "code",
   "execution_count": 45,
   "metadata": {
    "id": "93N002kzu4Fr"
   },
   "outputs": [
    {
     "data": {
      "text/plain": [
       "0.0    153922\n",
       "1.0       487\n",
       "2.0        24\n",
       "3.0         3\n",
       "4.0         1\n",
       "5.0         1\n",
       "6.0         1\n",
       "Name: PredictedT, dtype: int64"
      ]
     },
     "execution_count": 45,
     "metadata": {},
     "output_type": "execute_result"
    }
   ],
   "source": [
    "df_nb_Results['PredictedT'].value_counts()"
   ]
  },
  {
   "cell_type": "markdown",
   "metadata": {},
   "source": [
    "### Trying a zero inflated variation of Negative binomial Regression Model"
   ]
  },
  {
   "cell_type": "code",
   "execution_count": null,
   "metadata": {},
   "outputs": [],
   "source": [
    "print(\"Model: Zero Inflated Neg. Binomial\")\n",
    "\n",
    "zinb_mod = sm.ZeroInflatedNegativeBinomialP(y_train_nb, X_train_nb).fit(method=\"newton\", maxiter=100)\n",
    "\n",
    "zinb_pred = zinb_mod.predict(X_test_nb, exog_infl=np.ones((len(X_test_nb), 1)))\n",
    "zinb_rmse = np.sqrt(mean_squared_error(y_test_nb, zinb_pred))\n",
    "\n",
    "print(\"RMSE ZINB: \", zinb_rmse)"
   ]
  },
  {
   "cell_type": "markdown",
   "metadata": {},
   "source": [
    "### Linear regression"
   ]
  },
  {
   "cell_type": "code",
   "execution_count": null,
   "metadata": {},
   "outputs": [],
   "source": [
    "from sklearn.metrics import mean_absolute_error\n",
    "from sklearn.metrics import r2_score\n",
    "\n",
    "X_train, X_test, y_train, y_test = train_test_split(X, y, test_size=0.25, random_state=2)"
   ]
  },
  {
   "cell_type": "code",
   "execution_count": null,
   "metadata": {},
   "outputs": [],
   "source": [
    "from sklearn.linear_model import LinearRegression\n",
    "\n",
    "Lr= LinearRegression()\n",
    "Lr.fit(X_train,y_train)\n",
    "pred=Lr.predict(X_test)\n",
    "\n",
    "print(mean_absolute_error(y_test,pred))\n",
    "print(r2_score(y_test,pred))"
   ]
  },
  {
   "cell_type": "markdown",
   "metadata": {},
   "source": [
    "### Gradient Boosting Regressor\n"
   ]
  },
  {
   "cell_type": "code",
   "execution_count": null,
   "metadata": {},
   "outputs": [],
   "source": [
    "from sklearn.ensemble import GradientBoostingRegressor\n",
    "\n",
    "gb= GradientBoostingRegressor()\n",
    "gb.fit(X_train,y_train)\n",
    "pred=gb.predict(X_test)\n",
    "\n",
    "print(mean_absolute_error(y_test,pred))\n",
    "print(r2_score(y_test,pred))"
   ]
  },
  {
   "cell_type": "markdown",
   "metadata": {},
   "source": [
    "till now the problem statement is addressed as a regresion problem what if it is seen as a **classification problem**."
   ]
  },
  {
   "cell_type": "markdown",
   "metadata": {},
   "source": [
    "### Logistic Regression"
   ]
  },
  {
   "cell_type": "code",
   "execution_count": null,
   "metadata": {},
   "outputs": [],
   "source": [
    "from sklearn.metrics  import f1_score\n",
    "from sklearn.metrics  import accuracy_score\n",
    "\n",
    "X_train, X_test, y_train, y_test = train_test_split(X, y, test_size=0.25, random_state=2)"
   ]
  },
  {
   "cell_type": "code",
   "execution_count": null,
   "metadata": {},
   "outputs": [],
   "source": [
    "from sklearn.linear_model import LogisticRegression\n",
    "\n",
    "LR = LogisticRegression()\n",
    "LR.fit(X_train,y_train)\n",
    "\n",
    "pred = LR.predict(X_test)\n",
    "print(accuracy_score(y_test,pred))\n",
    "print(f1_score(y_test,pred,average='micro'))"
   ]
  },
  {
   "cell_type": "markdown",
   "metadata": {},
   "source": [
    "### Decision Tree Classifier"
   ]
  },
  {
   "cell_type": "code",
   "execution_count": null,
   "metadata": {},
   "outputs": [],
   "source": [
    "from sklearn.tree import DecisionTreeClassifier\n",
    "\n",
    "DT= DecisionTreeClassifier()\n",
    "DT.fit(X_train,y_train)\n",
    "\n",
    "pred=DT.predict(X_test)\n",
    "\n",
    "print(accuracy_score(y_test,pred))        \n",
    "print(f1_score(y_test,pred,average='micro'))"
   ]
  },
  {
   "cell_type": "markdown",
   "metadata": {},
   "source": [
    "### Gradient Boosting Classifier"
   ]
  },
  {
   "cell_type": "code",
   "execution_count": null,
   "metadata": {},
   "outputs": [],
   "source": [
    "from sklearn.ensemble import GradientBoostingClassifier\n",
    "\n",
    "\n",
    "gbc= GradientBoostingClassifier()\n",
    "gbc.fit(X_train,y_train)\n",
    "\n",
    "pred=gbc.predict(X_test)\n",
    "\n",
    "print(accuracy_score(y_test,pred))        \n",
    "print(f1_score(y_test,pred,average='micro'))"
   ]
  },
  {
   "cell_type": "code",
   "execution_count": null,
   "metadata": {},
   "outputs": [],
   "source": []
  }
 ],
 "metadata": {
  "colab": {
   "collapsed_sections": [
    "hrXfXm2NrGfJ"
   ],
   "name": "Python_CAS_modelling.ipynb",
   "provenance": []
  },
  "kernelspec": {
   "display_name": "Python 3",
   "language": "python",
   "name": "python3"
  },
  "language_info": {
   "codemirror_mode": {
    "name": "ipython",
    "version": 3
   },
   "file_extension": ".py",
   "mimetype": "text/x-python",
   "name": "python",
   "nbconvert_exporter": "python",
   "pygments_lexer": "ipython3",
   "version": "3.9.1"
  }
 },
 "nbformat": 4,
 "nbformat_minor": 1
}
