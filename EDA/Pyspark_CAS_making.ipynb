{
  "cells": [
    {
      "cell_type": "code",
      "source": [
        "!apt-get update\n",
        "!apt-get install openjdk-8-jdk-headless -qq > /dev/null\n",
        "!wget -q https://archive.apache.org/dist/spark/spark-3.0.0/spark-3.0.0-bin-hadoop3.2.tgz\n",
        "!tar xf spark-3.0.0-bin-hadoop3.2.tgz\n",
        "!pip install -q findspark\n",
        "!pip install pyspark\n",
        "import os\n",
        "os.environ[\"JAVA_HOME\"] = \"/usr/lib/jvm/java-8-openjdk-amd64\"\n",
        "os.environ[\"SPARK_HOME\"] = \"/content/spark-3.0.0-bin-hadoop3.2\"\n",
        "import findspark\n",
        "findspark.init()"
      ],
      "metadata": {
        "id": "hNktmWyvTZ9F",
        "colab": {
          "base_uri": "https://localhost:8080/"
        },
        "outputId": "2ce91f77-a78f-470b-dfb3-a6094eeb3eb3"
      },
      "execution_count": null,
      "outputs": [
        {
          "output_type": "stream",
          "name": "stdout",
          "text": [
            "\r0% [Working]\r            \rHit:1 http://security.ubuntu.com/ubuntu bionic-security InRelease\n",
            "\r0% [Waiting for headers] [Connected to cloud.r-project.org (65.8.178.6)] [Conne\r0% [1 InRelease gpgv 88.7 kB] [Waiting for headers] [Connected to cloud.r-proje\r                                                                               \rHit:2 http://archive.ubuntu.com/ubuntu bionic InRelease\n",
            "\r0% [1 InRelease gpgv 88.7 kB] [Waiting for headers] [Connected to cloud.r-proje\r                                                                               \rHit:3 https://cloud.r-project.org/bin/linux/ubuntu bionic-cran40/ InRelease\n",
            "\r0% [1 InRelease gpgv 88.7 kB] [Waiting for headers] [Connecting to ppa.launchpa\r                                                                               \rHit:4 http://archive.ubuntu.com/ubuntu bionic-updates InRelease\n",
            "Hit:5 http://archive.ubuntu.com/ubuntu bionic-backports InRelease\n",
            "Ign:6 https://developer.download.nvidia.com/compute/cuda/repos/ubuntu1804/x86_64  InRelease\n",
            "Hit:7 http://ppa.launchpad.net/c2d4u.team/c2d4u4.0+/ubuntu bionic InRelease\n",
            "Ign:8 https://developer.download.nvidia.com/compute/machine-learning/repos/ubuntu1804/x86_64  InRelease\n",
            "Hit:9 https://developer.download.nvidia.com/compute/cuda/repos/ubuntu1804/x86_64  Release\n",
            "Hit:10 https://developer.download.nvidia.com/compute/machine-learning/repos/ubuntu1804/x86_64  Release\n",
            "Hit:11 http://ppa.launchpad.net/cran/libgit2/ubuntu bionic InRelease\n",
            "Hit:12 http://ppa.launchpad.net/deadsnakes/ppa/ubuntu bionic InRelease\n",
            "Hit:13 http://ppa.launchpad.net/graphics-drivers/ppa/ubuntu bionic InRelease\n",
            "Reading package lists... Done\n",
            "Requirement already satisfied: pyspark in /usr/local/lib/python3.7/dist-packages (3.2.1)\n",
            "Requirement already satisfied: py4j==0.10.9.3 in /usr/local/lib/python3.7/dist-packages (from pyspark) (0.10.9.3)\n"
          ]
        }
      ]
    },
    {
      "cell_type": "code",
      "source": [
        "from pyspark.sql import SparkSession\n",
        "spark = SparkSession.builder.getOrCreate()                        # spark session creation.\n",
        "spark"
      ],
      "metadata": {
        "id": "sxTcdfQR-dHy",
        "colab": {
          "base_uri": "https://localhost:8080/",
          "height": 219
        },
        "outputId": "a1b1c5f9-16e0-4b8c-8d6f-6c93a09faa40"
      },
      "execution_count": null,
      "outputs": [
        {
          "output_type": "execute_result",
          "data": {
            "text/plain": [
              "<pyspark.sql.session.SparkSession at 0x7f73ad062450>"
            ],
            "text/html": [
              "\n",
              "            <div>\n",
              "                <p><b>SparkSession - in-memory</b></p>\n",
              "                \n",
              "        <div>\n",
              "            <p><b>SparkContext</b></p>\n",
              "\n",
              "            <p><a href=\"http://977ffe6facc4:4040\">Spark UI</a></p>\n",
              "\n",
              "            <dl>\n",
              "              <dt>Version</dt>\n",
              "                <dd><code>v3.0.0</code></dd>\n",
              "              <dt>Master</dt>\n",
              "                <dd><code>local[*]</code></dd>\n",
              "              <dt>AppName</dt>\n",
              "                <dd><code>pyspark-shell</code></dd>\n",
              "            </dl>\n",
              "        </div>\n",
              "        \n",
              "            </div>\n",
              "        "
            ]
          },
          "metadata": {},
          "execution_count": 23
        }
      ]
    },
    {
      "cell_type": "code",
      "execution_count": null,
      "metadata": {
        "id": "93daIPJwGrGy"
      },
      "outputs": [],
      "source": [
        "import numpy as np\n",
        "import pandas as pd\n",
        "import matplotlib.pyplot as plt\n",
        "import seaborn as sns\n",
        "from patsy import dmatrices\n",
        "\n",
        "sns.set_theme()"
      ]
    },
    {
      "cell_type": "markdown",
      "metadata": {
        "id": "f0gT5oXx79w4"
      },
      "source": [
        "## Importing data"
      ]
    },
    {
      "cell_type": "code",
      "source": [
        "from google.colab import drive\n",
        "drive.mount('/content/drive')"
      ],
      "metadata": {
        "id": "ixVFx5ra83jI",
        "colab": {
          "base_uri": "https://localhost:8080/"
        },
        "outputId": "1474bb4c-c34f-462c-a7dd-478d17262744"
      },
      "execution_count": null,
      "outputs": [
        {
          "output_type": "stream",
          "name": "stdout",
          "text": [
            "Drive already mounted at /content/drive; to attempt to forcibly remount, call drive.mount(\"/content/drive\", force_remount=True).\n"
          ]
        }
      ]
    },
    {
      "cell_type": "code",
      "source": [
        "file_path = \"/content/drive/MyDrive/datasets/Crash_Analysis_System_(CAS)_data.csv\"\n",
        "df = spark.read.csv(file_path, header= True ,inferSchema = True) "
      ],
      "metadata": {
        "id": "mNCN34Az84T1"
      },
      "execution_count": null,
      "outputs": []
    },
    {
      "cell_type": "code",
      "execution_count": null,
      "metadata": {
        "id": "eWMer30rHEXq",
        "colab": {
          "base_uri": "https://localhost:8080/"
        },
        "outputId": "fa506f86-e0a7-4779-d432-c6701be97873"
      },
      "outputs": [
        {
          "output_type": "execute_result",
          "data": {
            "text/plain": [
              "(776878, 72)"
            ]
          },
          "metadata": {},
          "execution_count": 27
        }
      ],
      "source": [
        "df.count() , len(df.columns)"
      ]
    },
    {
      "cell_type": "code",
      "source": [
        "from pyspark.sql.functions import *"
      ],
      "metadata": {
        "id": "jC0mSkV1R1ne"
      },
      "execution_count": null,
      "outputs": []
    },
    {
      "cell_type": "code",
      "execution_count": null,
      "metadata": {
        "id": "O-OqgcaKHJbz",
        "colab": {
          "base_uri": "https://localhost:8080/"
        },
        "outputId": "dfacc09d-9aaf-42aa-b24e-ba6c03793ba2"
      },
      "outputs": [
        {
          "output_type": "stream",
          "name": "stdout",
          "text": [
            "+---+---+--------+-------------+----------+-------+------+---+---------------+---------+-------------------------+------------------+--------------+--------------+-----------------+-------------+------------------+---------+------+------------------------+-----+----------+-----+--------+---------+-------+---------------+------------+----+-----+-----------+----------------+-----+----------+-------------+---------------------+-----------+----------------+--------+-------------+----------+-----------+----------+------+-------------+--------+-----------+---------+---------+------------------+-----------+----------+-----------+-----------+---+----+-------------------+-----+-------+--------------+-------------+-----------+-----+----+-----+------------------+-----+------------+-------+----------+--------+--------+\n",
            "|  X|  Y|OBJECTID|advisorySpeed|areaUnitID|bicycle|bridge|bus|carStationWagon|cliffBank|crashDirectionDescription|crashFinancialYear|crashLocation1|crashLocation2|crashRoadSideRoad|crashSeverity|crashSHDescription|crashYear|debris|directionRoleDescription|ditch|fatalCount|fence|flatHill|guardRail|holiday|houseOrBuilding|intersection|kerb|light|meshblockId|minorInjuryCount|moped|motorcycle|NumberOfLanes|objectThrownOrDropped|otherObject|otherVehicleType|overBank|parkedVehicle|pedestrian|phoneBoxEtc|postOrPole|region|roadCharacter|roadLane|roadSurface|roadworks|schoolBus|seriousInjuryCount|slipOrFlood|speedLimit|strayAnimal|streetLight|suv|taxi|temporarySpeedLimit|tlaId|tlaName|trafficControl|trafficIsland|trafficSign|train|tree|truck|unknownVehicleType|urban|vanOrUtility|vehicle|waterRiver|weatherA|weatherB|\n",
            "+---+---+--------+-------------+----------+-------+------+---+---------------+---------+-------------------------+------------------+--------------+--------------+-----------------+-------------+------------------+---------+------+------------------------+-----+----------+-----+--------+---------+-------+---------------+------------+----+-----+-----------+----------------+-----+----------+-------------+---------------------+-----------+----------------+--------+-------------+----------+-----------+----------+------+-------------+--------+-----------+---------+---------+------------------+-----------+----------+-----------+-----------+---+----+-------------------+-----+-------+--------------+-------------+-----------+-----+----+-----+------------------+-----+------------+-------+----------+--------+--------+\n",
            "|  0|  0|       0|            0|         0|      0|     0|  0|              0|        0|                        0|                 0|             0|             0|                0|            0|                 0|        0|     0|                       0|    0|         0|    0|       0|        0|      0|              0|           0|   0|    0|          0|               0|    0|         0|            0|                    0|          0|               0|       0|            0|         0|          0|         0|     0|            0|       0|          0|        0|        0|                 0|          0|         0|          0|          0|  0|   0|                  0|    0|      0|             0|            0|          0|    0|   0|    0|                 0|    0|           0|      0|         0|       0|       0|\n",
            "+---+---+--------+-------------+----------+-------+------+---+---------------+---------+-------------------------+------------------+--------------+--------------+-----------------+-------------+------------------+---------+------+------------------------+-----+----------+-----+--------+---------+-------+---------------+------------+----+-----+-----------+----------------+-----+----------+-------------+---------------------+-----------+----------------+--------+-------------+----------+-----------+----------+------+-------------+--------+-----------+---------+---------+------------------+-----------+----------+-----------+-----------+---+----+-------------------+-----+-------+--------------+-------------+-----------+-----+----+-----+------------------+-----+------------+-------+----------+--------+--------+\n",
            "\n"
          ]
        }
      ],
      "source": [
        "df.select([count(when(isnan(c), c)).alias(c) for c in df.columns]).show()"
      ]
    },
    {
      "cell_type": "code",
      "source": [
        "df.select([count(when(col(c).isNull(), c)).alias(c) for c in df.columns]).show()"
      ],
      "metadata": {
        "id": "yw8J3h1vPn3Y",
        "colab": {
          "base_uri": "https://localhost:8080/"
        },
        "outputId": "7e0eb8fe-0847-4233-dbe4-90eee834a09c"
      },
      "execution_count": null,
      "outputs": [
        {
          "output_type": "stream",
          "name": "stdout",
          "text": [
            "+---+---+--------+-------------+----------+-------+------+---+---------------+---------+-------------------------+------------------+--------------+--------------+-----------------+-------------+------------------+---------+------+------------------------+------+----------+------+--------+---------+-------+---------------+------------+------+-----+-----------+----------------+-----+----------+-------------+---------------------+-----------+----------------+--------+-------------+----------+-----------+----------+------+-------------+--------+-----------+---------+---------+------------------+-----------+----------+-----------+-----------+---+----+-------------------+-----+-------+--------------+-------------+-----------+------+------+-----+------------------+-----+------------+-------+----------+--------+--------+\n",
            "|  X|  Y|OBJECTID|advisorySpeed|areaUnitID|bicycle|bridge|bus|carStationWagon|cliffBank|crashDirectionDescription|crashFinancialYear|crashLocation1|crashLocation2|crashRoadSideRoad|crashSeverity|crashSHDescription|crashYear|debris|directionRoleDescription| ditch|fatalCount| fence|flatHill|guardRail|holiday|houseOrBuilding|intersection|  kerb|light|meshblockId|minorInjuryCount|moped|motorcycle|NumberOfLanes|objectThrownOrDropped|otherObject|otherVehicleType|overBank|parkedVehicle|pedestrian|phoneBoxEtc|postOrPole|region|roadCharacter|roadLane|roadSurface|roadworks|schoolBus|seriousInjuryCount|slipOrFlood|speedLimit|strayAnimal|streetLight|suv|taxi|temporarySpeedLimit|tlaId|tlaName|trafficControl|trafficIsland|trafficSign| train|  tree|truck|unknownVehicleType|urban|vanOrUtility|vehicle|waterRiver|weatherA|weatherB|\n",
            "+---+---+--------+-------------+----------+-------+------+---+---------------+---------+-------------------------+------------------+--------------+--------------+-----------------+-------------+------------------+---------+------+------------------------+------+----------+------+--------+---------+-------+---------------+------------+------+-----+-----------+----------------+-----+----------+-------------+---------------------+-----------+----------------+--------+-------------+----------+-----------+----------+------+-------------+--------+-----------+---------+---------+------------------+-----------+----------+-----------+-----------+---+----+-------------------+-----+-------+--------------+-------------+-----------+------+------+-----+------------------+-----+------------+-------+----------+--------+--------+\n",
            "|  0|  0|       0|       747589|       116|      5|466396|  5|              5|   466396|                        0|                 0|             0|           920|           776878|            0|                 1|        0|466396|                      79|466396|       136|466396|       0|   466396| 734520|         466396|      776878|466396|    0|        116|             136|    5|         5|         1535|               466396|     466396|               5|  466396|       466396|    752108|     466396|    466396|  3026|            0|       0|          0|   466396|        5|               136|     466396|       555|     466396|          0|  5|   5|             765631| 3026|   3026|             0|       466396|     466396|466396|466396|    5|                 5|    0|           5| 466396|    466396|       0|       0|\n",
            "+---+---+--------+-------------+----------+-------+------+---+---------------+---------+-------------------------+------------------+--------------+--------------+-----------------+-------------+------------------+---------+------+------------------------+------+----------+------+--------+---------+-------+---------------+------------+------+-----+-----------+----------------+-----+----------+-------------+---------------------+-----------+----------------+--------+-------------+----------+-----------+----------+------+-------------+--------+-----------+---------+---------+------------------+-----------+----------+-----------+-----------+---+----+-------------------+-----+-------+--------------+-------------+-----------+------+------+-----+------------------+-----+------------+-------+----------+--------+--------+\n",
            "\n"
          ]
        }
      ]
    },
    {
      "cell_type": "markdown",
      "source": [
        "#### preprocessing in pyspark"
      ],
      "metadata": {
        "id": "bBWFnhkpFgA-"
      }
    },
    {
      "cell_type": "code",
      "source": [
        "df = df.na.fill(np.nan, subset=None)"
      ],
      "metadata": {
        "id": "SOz2p1JiFfD1"
      },
      "execution_count": null,
      "outputs": []
    },
    {
      "cell_type": "code",
      "source": [
        "df = df.drop(\"OBJECTID\",\"advisorySpeed\",\"crashRoadSideRoad\",\"tlaId\",\"meshblockId\",\"intersection\",\"areaUnitID\",\"temporarySpeedLimit\",\"pedestrian\",\"holiday\",\"weatherB\")\n",
        "df = df.distinct()"
      ],
      "metadata": {
        "id": "biawkkCPG9T0"
      },
      "execution_count": null,
      "outputs": []
    },
    {
      "cell_type": "code",
      "source": [
        "df.count(),len(df.columns)"
      ],
      "metadata": {
        "colab": {
          "base_uri": "https://localhost:8080/"
        },
        "id": "jGsa_gdfkw8b",
        "outputId": "d9a7eae9-ee9c-40e2-c0c1-9cb876ab582a"
      },
      "execution_count": null,
      "outputs": [
        {
          "output_type": "execute_result",
          "data": {
            "text/plain": [
              "(776125, 61)"
            ]
          },
          "metadata": {},
          "execution_count": 33
        }
      ]
    },
    {
      "cell_type": "code",
      "source": [
        "df = df.withColumn('fatalCount',when(df.crashSeverity == \"Fatal Crash\", 1).otherwise(0))\n",
        "df = df.withColumn('minorInjuryCount',when(df.crashSeverity == \"Minor Crash\", 1).otherwise(0))\n",
        "df = df.withColumn('seriousInjuryCount',when(df.crashSeverity == \"Serious Crash\", 1).otherwise(0))"
      ],
      "metadata": {
        "id": "Ihxm8mi_Ud0l"
      },
      "execution_count": null,
      "outputs": []
    },
    {
      "cell_type": "code",
      "source": [
        "cols = ['bicycle','bus','carStationWagon','moped','motorcycle','otherVehicleType','schoolBus','suv','taxi','truck','unknownVehicleType','vanOrUtility','bridge','cliffBank','debris','ditch','fence','truck','guardRail','houseOrBuilding','kerb','NumberOfLanes','objectThrownOrDropped','otherObject','overBank','parkedVehicle','phoneBoxEtc','postOrPole','roadworks','slipOrFlood','speedLimit','strayAnimal','train','tree','vehicle','trafficIsland','trafficSign','waterRiver']\n",
        "df = df.fillna(0, subset=cols)"
      ],
      "metadata": {
        "id": "K_QvDj3UYPuq"
      },
      "execution_count": null,
      "outputs": []
    },
    {
      "cell_type": "code",
      "source": [
        "datasets = df.randomSplit([0.7, 0.2, 0.1])"
      ],
      "metadata": {
        "id": "VL_PNrznbs0l"
      },
      "execution_count": null,
      "outputs": []
    },
    {
      "cell_type": "code",
      "source": [
        "datasets[0].count(),datasets[1].count(),datasets[2].count()"
      ],
      "metadata": {
        "id": "Nl-gcEEmcR3o",
        "colab": {
          "base_uri": "https://localhost:8080/"
        },
        "outputId": "866974f8-2ea5-48df-babe-bb6b4b2ab93f"
      },
      "execution_count": null,
      "outputs": [
        {
          "output_type": "execute_result",
          "data": {
            "text/plain": [
              "(543011, 155775, 77339)"
            ]
          },
          "metadata": {},
          "execution_count": 38
        }
      ]
    },
    {
      "cell_type": "code",
      "source": [
        "traindata = datasets[0]\n",
        "testdata = datasets[1]\n",
        "validata = datasets[2]"
      ],
      "metadata": {
        "id": "H-Xw2FmUdIZo"
      },
      "execution_count": null,
      "outputs": []
    }
  ],
  "metadata": {
    "colab": {
      "name": "CAS DATASET_making.ipynb",
      "provenance": [],
      "collapsed_sections": []
    },
    "kernelspec": {
      "display_name": "Python 3 (ipykernel)",
      "language": "python",
      "name": "python3"
    },
    "language_info": {
      "codemirror_mode": {
        "name": "ipython",
        "version": 3
      },
      "file_extension": ".py",
      "mimetype": "text/x-python",
      "name": "python",
      "nbconvert_exporter": "python",
      "pygments_lexer": "ipython3",
      "version": "3.8.3"
    }
  },
  "nbformat": 4,
  "nbformat_minor": 0
}
